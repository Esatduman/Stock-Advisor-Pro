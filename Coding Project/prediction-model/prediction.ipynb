{
  "cells": [
    {
      "cell_type": "code",
      "execution_count": null,
      "metadata": {
        "id": "zBMUjBptoEnT",
        "colab": {
          "base_uri": "https://localhost:8080/"
        },
        "outputId": "3393b893-f92d-4dfe-b847-96b458dce6ff"
      },
      "outputs": [
        {
          "output_type": "stream",
          "name": "stdout",
          "text": [
            "2.17.1\n"
          ]
        }
      ],
      "source": [
        "seed = 31\n",
        "\n",
        "import os\n",
        "os.environ['TF_CPP_MIN_LOG_LEVEL'] = '3'\n",
        "os.environ['PYTHONHASHSEED'] = str(seed)\n",
        "os.environ['MPLCONFIGDIR'] = os.getcwd() + '/configs/'\n",
        "\n",
        "import warnings\n",
        "warnings.simplefilter(action = 'ignore', category = FutureWarning)\n",
        "warnings.simplefilter(action = 'ignore', category = Warning)\n",
        "\n",
        "import numpy as np\n",
        "from collections import Counter\n",
        "np.random.seed(seed)\n",
        "\n",
        "import logging\n",
        "\n",
        "import random\n",
        "random.seed(seed)\n",
        "\n",
        "#tf.keras.mixed_precision.set_global_policy('mixed_float16')\n",
        "import tensorflow as tf\n",
        "from tensorflow import keras as tfk\n",
        "from tensorflow.keras import layers as tfkl\n",
        "tf.autograph.set_verbosity(0)\n",
        "tf.get_logger().setLevel(logging.ERROR)\n",
        "tf.compat.v1.logging.set_verbosity(tf.compat.v1.logging.ERROR)\n",
        "tf.random.set_seed(seed)\n",
        "tf.compat.v1.set_random_seed(seed)\n",
        "print(tf.__version__)\n",
        "\n",
        "#tf.keras.mixed_precision.set_global_policy('mixed_float16')\n",
        "\n",
        "import keras\n",
        "from keras.layers import Activation\n",
        "from keras.utils import get_custom_objects\n",
        "import pandas as pd\n",
        "import seaborn as sns\n",
        "from datetime import datetime\n",
        "import matplotlib.pyplot as plt\n",
        "plt.rc('font', size=16)\n",
        "from sklearn.preprocessing import MinMaxScaler\n",
        "from sklearn.preprocessing import RobustScaler\n",
        "import time\n",
        "import os\n",
        "\n",
        "import torch\n",
        "import torch.nn as nn\n",
        "import torch.optim as optim\n",
        "\n",
        "from tqdm import tqdm"
      ]
    },
    {
      "cell_type": "code",
      "execution_count": null,
      "metadata": {
        "colab": {
          "base_uri": "https://localhost:8080/"
        },
        "id": "dq6d5OyFpIAC",
        "outputId": "a494f6aa-eed0-4455-d15d-12cf9f9240e9"
      },
      "outputs": [
        {
          "output_type": "stream",
          "name": "stdout",
          "text": [
            "Mounted at /content/drive\n"
          ]
        }
      ],
      "source": [
        "# prompt: connect to gdrive\n",
        "from google.colab import drive\n",
        "drive.mount('/content/drive')\n"
      ]
    },
    {
      "cell_type": "code",
      "execution_count": null,
      "metadata": {
        "colab": {
          "base_uri": "https://localhost:8080/"
        },
        "id": "VOlutssmoEnU",
        "outputId": "55ad7916-6016-47aa-d6a1-add1758d7c7e"
      },
      "outputs": [
        {
          "output_type": "stream",
          "name": "stdout",
          "text": [
            "Loaded 10778 closing prices for ADI\n",
            "Loaded 10778 closing prices for ABT\n",
            "Loaded 4333 closing prices for AAL\n",
            "Loaded 6278 closing prices for AEE\n",
            "Loaded 5296 closing prices for AAP\n",
            "Loaded 5804 closing prices for A\n",
            "Loaded 8916 closing prices for ABMD\n",
            "Loaded 10778 closing prices for ADP\n",
            "Loaded 6973 closing prices for ABC\n",
            "Loaded 5385 closing prices for ACN\n",
            "Loaded 10778 closing prices for ADM\n",
            "Loaded 13356 closing prices for AEP\n",
            "Loaded 9441 closing prices for ADSK\n",
            "Loaded 10590 closing prices for AAPL\n",
            "Loaded 2505 closing prices for ABBV\n",
            "Loaded 10990 closing prices for APA\n",
            "Loaded 12514 closing prices for BF-A\n",
            "Loaded 10778 closing prices for CAG\n",
            "Loaded 10791 closing prices for BIO\n",
            "Loaded 3687 closing prices for AWK\n",
            "Loaded 6121 closing prices for CCI\n",
            "Loaded 1287 closing prices for ALTR\n",
            "Loaded 7387 closing prices for BWA\n",
            "Loaded 12514 closing prices for BK\n",
            "Loaded 13356 closing prices for CAT\n",
            "No closing prices loaded for BHI\n",
            "Loaded 9882 closing prices for AOS\n",
            "Loaded 10778 closing prices for CDE\n",
            "Loaded 12744 closing prices for AXP\n",
            "Loaded 7987 closing prices for AZO\n",
            "Loaded 6438 closing prices for AMZN\n",
            "Loaded 9922 closing prices for CAH\n",
            "Loaded 12564 closing prices for BDX\n",
            "Loaded 7485 closing prices for CB\n",
            "Loaded 7700 closing prices for BSX\n",
            "Loaded 10778 closing prices for ALK\n",
            "Loaded 11587 closing prices for C\n",
            "Loaded 7870 closing prices for BIIB\n",
            "Loaded 7241 closing prices for AVB\n",
            "Loaded 9700 closing prices for AJG\n",
            "Loaded 10778 closing prices for APD\n",
            "Loaded 4341 closing prices for AMP\n",
            "Loaded 4747 closing prices for AIZ\n",
            "Loaded 12564 closing prices for AVY\n",
            "Loaded 9680 closing prices for AME\n",
            "Loaded 12744 closing prices for BMY\n",
            "Loaded 5818 closing prices for AKAM\n",
            "Loaded 9955 closing prices for AMGN\n",
            "Loaded 5838 closing prices for BLK\n",
            "Loaded 2070 closing prices for CFG\n",
            "Loaded 10778 closing prices for BRK-A\n",
            "Loaded 7832 closing prices for APH\n",
            "Loaded 7337 closing prices for ATVI\n",
            "Loaded 6430 closing prices for ARE\n",
            "Loaded 7254 closing prices for ALB\n",
            "Loaded 5503 closing prices for ALGN\n",
            "Loaded 9645 closing prices for BMRA\n",
            "Loaded 10778 closing prices for AMD\n",
            "Loaded 4365 closing prices for CF\n",
            "Loaded 13356 closing prices for BA\n",
            "Loaded 12564 closing prices for BAC\n",
            "Loaded 3961 closing prices for BR\n",
            "Loaded 10778 closing prices for AMAT\n",
            "Loaded 10725 closing prices for AON\n",
            "Loaded 6240 closing prices for AMT\n",
            "Loaded 2283 closing prices for ALLE\n",
            "Loaded 6415 closing prices for BXP\n",
            "Loaded 2146 closing prices for ANET\n",
            "Loaded 10370 closing prices for BAX\n",
            "Loaded 9491 closing prices for BBY\n",
            "Loaded 8950 closing prices for CDNS\n",
            "Loaded 9887 closing prices for BEN\n",
            "Loaded 5916 closing prices for BSHI\n",
            "Loaded 13356 closing prices for ED\n",
            "Loaded 4639 closing prices for DPZ\n",
            "Loaded 6095 closing prices for EBAY\n",
            "Loaded 12515 closing prices for CL\n",
            "Loaded 7237 closing prices for CPRT\n",
            "Loaded 12564 closing prices for ECL\n",
            "Loaded 5620 closing prices for EQIX\n",
            "Loaded 12564 closing prices for ES\n",
            "Loaded 8373 closing prices for EA\n",
            "Loaded 12744 closing prices for F\n",
            "Loaded 7388 closing prices for EQR\n",
            "Loaded 8363 closing prices for EOG\n",
            "Loaded 4134 closing prices for COWN\n",
            "Loaded 4652 closing prices for CRM\n",
            "Loaded 5570 closing prices for CUK\n",
            "No closing prices loaded for CPICQ\n",
            "Loaded 13356 closing prices for CNP\n",
            "Loaded 10778 closing prices for DOV\n",
            "Loaded 4625 closing prices for ENS\n",
            "Loaded 3932 closing prices for DAL\n",
            "Loaded 10778 closing prices for EFX\n",
            "Loaded 5286 closing prices for CNC\n",
            "Loaded 3292 closing prices for DG\n",
            "Loaded 12744 closing prices for DE\n",
            "Loaded 7688 closing prices for DHI\n",
            "Loaded 5716 closing prices for EW\n",
            "Loaded 6949 closing prices for DRI\n",
            "Loaded 6993 closing prices for DLTR\n",
            "Loaded 5039 closing prices for CME\n",
            "Loaded 4250 closing prices for CMG\n",
            "Loaded 12564 closing prices for CPB\n",
            "Loaded 12564 closing prices for CLX\n",
            "Loaded 10325 closing prices for COP\n",
            "Loaded 7302 closing prices for EMN\n",
            "Loaded 10778 closing prices for CHD\n",
            "Loaded 6541 closing prices for DGX\n",
            "No closing prices loaded for CTQ\n",
            "Loaded 2393 closing prices for COTY\n",
            "Loaded 13356 closing prices for DIS\n",
            "Loaded 10057 closing prices for COO\n",
            "Loaded 6162 closing prices for CTSH\n",
            "Loaded 13356 closing prices for DTE\n",
            "Loaded 9911 closing prices for CTAS\n",
            "Loaded 3258 closing prices for CHTR\n",
            "Loaded 6331 closing prices for CHRW\n",
            "Loaded 4615 closing prices for EXR\n",
            "Loaded 7182 closing prices for ESS\n",
            "No closing prices loaded for CNWT\n",
            "Loaded 10778 closing prices for D\n",
            "Loaded 4448 closing prices for DXCM\n",
            "Loaded 6814 closing prices for EL\n",
            "Loaded 6827 closing prices for DVA\n",
            "Loaded 9183 closing prices for COST\n",
            "No closing prices loaded for DRE\n",
            "Loaded 12514 closing prices for EIX\n",
            "Loaded 12564 closing prices for CMI\n",
            "Loaded 3903 closing prices for DFS\n",
            "Loaded 8269 closing prices for CSCO\n",
            "Loaded 12744 closing prices for EMR\n",
            "Loaded 10778 closing prices for CINF\n",
            "Loaded 10778 closing prices for FITB\n",
            "Loaded 5921 closing prices for FFIV\n",
            "Loaded 12103 closing prices for IFF\n",
            "Loaded 5976 closing prices for FMBM\n",
            "Loaded 10778 closing prices for GPC\n",
            "Loaded 3017 closing prices for FPLPF\n",
            "Loaded 2430 closing prices for GS-PJ\n",
            "Loaded 12564 closing prices for GWW\n",
            "Loaded 10778 closing prices for FMC\n",
            "Loaded 10778 closing prices for GIS\n",
            "Loaded 11266 closing prices for FDX\n",
            "Loaded 2266 closing prices for HLT\n",
            "Loaded 2961 closing prices for HCA\n",
            "Loaded 12564 closing prices for HRB\n",
            "Loaded 6824 closing prices for HSIC\n",
            "Loaded 10778 closing prices for HAS\n",
            "Loaded 10778 closing prices for HRL\n",
            "Loaded 13356 closing prices for GD\n",
            "Loaded 3037 closing prices for GM\n",
            "Loaded 10325 closing prices for HUM\n",
            "Loaded 1506 closing prices for FRMC\n",
            "Loaded 6907 closing prices for FCX\n",
            "Loaded 13356 closing prices for IBM\n",
            "Loaded 7930 closing prices for IDXX\n",
            "Loaded 10778 closing prices for FLS\n",
            "Loaded 4297 closing prices for ICE\n",
            "Loaded 8449 closing prices for IEX\n",
            "Loaded 13356 closing prices for HON\n",
            "Loaded 10778 closing prices for GGG\n",
            "Loaded 8261 closing prices for HOLX\n",
            "Loaded 10778 closing prices for HSY\n",
            "Loaded 5408 closing prices for FTI\n",
            "Loaded 3023 closing prices for FRC\n",
            "Loaded 12514 closing prices for FRT\n",
            "Loaded 6026 closing prices for HTLF\n",
            "Loaded 1801 closing prices for HPE\n",
            "Loaded 5537 closing prices for GRMN\n",
            "No closing prices loaded for INTH\n",
            "Loaded 2829 closing prices for FBHS\n",
            "Loaded 13356 closing prices for GE\n",
            "Loaded 6314 closing prices for FE\n",
            "Loaded 2558 closing prices for FANG\n",
            "Loaded 3019 closing prices for FLT\n",
            "Loaded 5513 closing prices for GPN\n",
            "Loaded 10395 closing prices for HD\n",
            "Loaded 9128 closing prices for FISV\n",
            "Loaded 2953 closing prices for HII\n",
            "Loaded 7782 closing prices for GILD\n",
            "Loaded 4612 closing prices for GOOG\n",
            "Loaded 10778 closing prices for HST\n",
            "Loaded 10778 closing prices for HES\n",
            "Loaded 8900 closing prices for FAST\n",
            "Loaded 5630 closing prices for ILMN\n",
            "Loaded 10778 closing prices for HBAN\n",
            "Loaded 4096 closing prices for HBI\n",
            "Loaded 12744 closing prices for HAL\n",
            "Loaded 13356 closing prices for HPQ\n",
            "Loaded 5405 closing prices for FIS\n",
            "Loaded 3139 closing prices for FN\n",
            "Loaded 7494 closing prices for INTU\n",
            "Loaded 11587 closing prices for LMT\n",
            "Loaded 13356 closing prices for KR\n",
            "Loaded 9845 closing prices for JBHT\n",
            "Loaded 7072 closing prices for MCK\n",
            "Loaded 6508 closing prices for KMX\n",
            "Loaded 7733 closing prices for MHK\n",
            "Loaded 5709 closing prices for MET\n",
            "Loaded 4665 closing prices for LBTYA\n",
            "Loaded 10778 closing prices for LNC\n",
            "Loaded 8846 closing prices for KEY\n",
            "Loaded 12564 closing prices for LNT\n",
            "Loaded 13356 closing prices for MMM\n",
            "Loaded 12550 closing prices for ITW\n",
            "Loaded 12515 closing prices for MDT\n",
            "Loaded 3180 closing prices for LYB\n",
            "Loaded 4831 closing prices for LKQ\n",
            "Loaded 10778 closing prices for LOW\n",
            "Loaded 10830 closing prices for LUV\n",
            "Loaded 8241 closing prices for LH\n",
            "Loaded 7351 closing prices for IT\n",
            "Loaded 13356 closing prices for KO\n",
            "Loaded 9329 closing prices for MNST\n",
            "Loaded 7489 closing prices for MCHP\n",
            "Loaded 6763 closing prices for IRM\n",
            "Loaded 9341 closing prices for JKHY\n",
            "Loaded 2438 closing prices for KACPF\n",
            "Loaded 4557 closing prices for MKTX\n",
            "Loaded 10778 closing prices for KMB\n",
            "Loaded 4067 closing prices for LDOS\n",
            "Loaded 4027 closing prices for IPGP\n",
            "Loaded 13356 closing prices for MCD\n",
            "Loaded 9732 closing prices for LRCX\n",
            "Loaded 5410 closing prices for MDLZ\n",
            "Loaded 6224 closing prices for MAR\n",
            "Loaded 7270 closing prices for MAA\n",
            "Loaded 7822 closing prices for KIM\n",
            "Loaded 13356 closing prices for MO\n",
            "Loaded 8874 closing prices for JCI\n",
            "Loaded 7700 closing prices for KSS\n",
            "Loaded 5659 closing prices for ISRG\n",
            "Loaded 7256 closing prices for MLM\n",
            "Loaded 10778 closing prices for JPM\n",
            "Loaded 7080 closing prices for MCO\n",
            "Loaded 4530 closing prices for LVS\n",
            "Loaded 2052 closing prices for KEYS\n",
            "Loaded 1892 closing prices for KGNR\n",
            "Loaded 13356 closing prices for JNJ\n",
            "Loaded 5906 closing prices for JNPR\n",
            "Loaded 12564 closing prices for MMC\n",
            "Loaded 1407 closing prices for IR\n",
            "Loaded 12564 closing prices for K\n",
            "Loaded 10778 closing prices for LEG\n",
            "Loaded 4273 closing prices for LYV\n",
            "Loaded 6873 closing prices for IVZ\n",
            "Loaded 13356 closing prices for IP\n",
            "Loaded 8724 closing prices for MGM\n",
            "Loaded 1875 closing prices for KHC\n",
            "Loaded 12564 closing prices for NI\n",
            "Loaded 10220 closing prices for NSC\n",
            "Loaded 2269 closing prices for MS-PF\n",
            "Loaded 2039 closing prices for NVRO\n",
            "Loaded 10830 closing prices for PEG\n",
            "Loaded 9906 closing prices for PAYX\n",
            "Loaded 8392 closing prices for NEOG\n",
            "Loaded 2493 closing prices for NCLH\n",
            "Loaded 9426 closing prices for NVR\n",
            "Loaded 10778 closing prices for PHM\n",
            "Loaded 10778 closing prices for PCAR\n",
            "Loaded 1816 closing prices for NMHLY\n",
            "Loaded 10778 closing prices for NWL\n",
            "Loaded 10325 closing prices for OXY\n",
            "Loaded 7843 closing prices for ODFL\n",
            "Loaded 2607 closing prices for PNWRF\n",
            "Loaded 13356 closing prices for MRK\n",
            "Loaded 10778 closing prices for PH\n",
            "Loaded 6305 closing prices for PLD\n",
            "Loaded 8791 closing prices for MOS\n",
            "No closing prices loaded for NLSN\n",
            "Loaded 3713 closing prices for PM\n",
            "Loaded 9713 closing prices for MU\n",
            "Loaded 10778 closing prices for OMC\n",
            "Loaded 12514 closing prices for PNR\n",
            "Loaded 13356 closing prices for MRO\n",
            "Loaded 10778 closing prices for NTRS\n",
            "Loaded 2745 closing prices for NCTKF\n",
            "Loaded 12744 closing prices for PFE\n",
            "Loaded 5756 closing prices for PKG\n",
            "Loaded 9264 closing prices for MSFT\n",
            "Loaded 2686 closing prices for PSX\n",
            "Loaded 2811 closing prices for NTRR\n",
            "Loaded 13356 closing prices for MSI\n",
            "Loaded 12564 closing prices for NEE\n",
            "Loaded 1877 closing prices for NTRA\n",
            "Loaded 12564 closing prices for PKI\n",
            "Loaded 7465 closing prices for ORLY\n",
            "Loaded 5150 closing prices for NDAQ\n",
            "Loaded 3795 closing prices for MSCI\n",
            "Loaded 6812 closing prices for NTAP\n",
            "Loaded 5616 closing prices for MRCR\n",
            "Loaded 2631 closing prices for NOW\n",
            "Loaded 10778 closing prices for PPG\n",
            "Loaded 5176 closing prices for NFLX\n",
            "Loaded 7164 closing prices for NOK\n",
            "Loaded 13356 closing prices for PG\n",
            "Loaded 6250 closing prices for PWR\n",
            "No closing prices loaded for NOXL\n",
            "Loaded 6575 closing prices for NOV\n",
            "Loaded 2887 closing prices for MPC\n",
            "Loaded 12744 closing prices for PEP\n",
            "Loaded 5286 closing prices for PRU\n",
            "Loaded 10778 closing prices for PVH\n",
            "Loaded 4791 closing prices for NRG\n",
            "Loaded 7089 closing prices for O\n",
            "Loaded 12564 closing prices for PNW\n",
            "Loaded 10640 closing prices for OKE\n",
            "Loaded 10325 closing prices for NOC\n",
            "Loaded 10778 closing prices for TMO\n",
            "Loaded 3986 closing prices for UEEC\n",
            "Loaded 2151 closing prices for RSNHF\n",
            "Loaded 1694 closing prices for UA\n",
            "Loaded 10778 closing prices for RLI\n",
            "Loaded 4139 closing prices for TRAUF\n",
            "Loaded 6847 closing prices for RE\n",
            "Loaded 10325 closing prices for SO\n",
            "Loaded 10778 closing prices for STT\n",
            "Loaded 12564 closing prices for TXT\n",
            "Loaded 4834 closing prices for RIBT\n",
            "Loaded 11981 closing prices for TAP\n",
            "Loaded 7333 closing prices for REG\n",
            "Loaded 2108 closing prices for SYF\n",
            "Loaded 931 closing prices for TW\n",
            "Loaded 8938 closing prices for TJX\n",
            "No closing prices loaded for STZ-B\n",
            "Loaded 6154 closing prices for RSG\n",
            "Loaded 1875 closing prices for SRG\n",
            "Loaded 7987 closing prices for REGN\n",
            "Loaded 10778 closing prices for RF\n",
            "Loaded 6460 closing prices for TTWO\n",
            "Loaded 4243 closing prices for UAL\n",
            "Loaded 2001 closing prices for QRVO\n",
            "Loaded 10778 closing prices for SYK\n",
            "No closing prices loaded for SONC\n",
            "Loaded 6419 closing prices for RL\n",
            "Loaded 12744 closing prices for TXN\n",
            "Loaded 10778 closing prices for TSN\n",
            "Loaded 6379 closing prices for PXD\n",
            "Loaded 2465 closing prices for TCYSF\n",
            "Loaded 3903 closing prices for TEL\n",
            "Loaded 6374 closing prices for SLG\n",
            "Loaded 10778 closing prices for ROL\n",
            "Loaded 9413 closing prices for ROST\n",
            "Loaded 219 closing prices for TIME\n",
            "Loaded 10325 closing prices for ROK\n",
            "Loaded 10778 closing prices for SWK\n",
            "Loaded 7256 closing prices for TSCO\n",
            "Loaded 7758 closing prices for SNPS\n",
            "Loaded 10778 closing prices for UDR\n",
            "Loaded 3832 closing prices for SEGXF\n",
            "Loaded 10778 closing prices for RHI\n",
            "Loaded 10447 closing prices for UHS\n",
            "Loaded 11871 closing prices for TRV\n",
            "Loaded 8854 closing prices for SIVB\n",
            "Loaded 9945 closing prices for RJF\n",
            "Loaded 8878 closing prices for SCHW\n",
            "Loaded 7302 closing prices for SPG\n",
            "Loaded 3215 closing prices for RXMD\n",
            "Loaded 7673 closing prices for SBUX\n",
            "No closing prices loaded for TWTR\n",
            "Loaded 9846 closing prices for T\n",
            "Loaded 9645 closing prices for SWKS\n",
            "Loaded 3942 closing prices for TMUS\n",
            "Loaded 6932 closing prices for RMD\n",
            "Loaded 10325 closing prices for SLB\n",
            "Loaded 6156 closing prices for SRE\n",
            "Loaded 10778 closing prices for SEE\n",
            "Loaded 9251 closing prices for TROW\n",
            "Loaded 5036 closing prices for STX\n",
            "Loaded 10778 closing prices for TYL\n",
            "Loaded 7462 closing prices for RCL\n",
            "Loaded 10778 closing prices for SHW\n",
            "Loaded 7766 closing prices for ROP\n",
            "Loaded 10325 closing prices for WMB\n",
            "Loaded 5381 closing prices for ZBH\n",
            "Loaded 8688 closing prices for WM\n",
            "Loaded 10778 closing prices for WBA\n",
            "Loaded 3319 closing prices for VRSK\n",
            "Loaded 11125 closing prices for WDC\n",
            "Loaded 13356 closing prices for XOM\n",
            "Loaded 12564 closing prices for VMC\n",
            "Loaded 6352 closing prices for YUM\n",
            "Loaded 2484 closing prices for ZTS\n",
            "Loaded 6287 closing prices for URI\n",
            "Loaded 10778 closing prices for WST\n",
            "Loaded 4078 closing prices for WU\n",
            "Loaded 2810 closing prices for XYL\n",
            "Loaded 10778 closing prices for ZION\n",
            "Loaded 9098 closing prices for UNM\n",
            "Loaded 5810 closing prices for UPS\n",
            "Loaded 10778 closing prices for WEC\n",
            "Loaded 6814 closing prices for WAT\n",
            "Loaded 3338 closing prices for XLEFF\n",
            "Loaded 12394 closing prices for WRB\n",
            "Loaded 3810 closing prices for ULTA\n",
            "Loaded 3711 closing prices for V\n",
            "Loaded 12514 closing prices for WY\n",
            "Loaded 12514 closing prices for USB\n",
            "Loaded 1882 closing prices for WRK\n",
            "Loaded 5068 closing prices for WYNN\n",
            "Loaded 10830 closing prices for UNP\n",
            "Loaded 9846 closing prices for VZ\n",
            "Loaded 12564 closing prices for WHR\n",
            "Loaded 2467 closing prices for WSPOF\n",
            "Loaded 12564 closing prices for XEL\n",
            "Loaded 6446 closing prices for VTR\n",
            "Loaded 6259 closing prices for VRSN\n",
            "Loaded 10778 closing prices for VFC\n",
            "\n",
            "Total number of stocks loaded: 398\n",
            "\n",
            "Sample data for ADI:\n",
            "[0.72799999 0.72000003 0.72000003 0.72000003 0.68800002]\n"
          ]
        }
      ],
      "source": [
        "\n",
        "# Dictionary to store closing prices for each stock\n",
        "closing_prices = {}\n",
        "\n",
        "# Path to the directory containing S&P 500 CSV files\n",
        "sp500_dir = '/content/drive/My Drive/csv'\n",
        "\n",
        "# Iterate through CSV files in the directory\n",
        "for filename in os.listdir(sp500_dir):\n",
        "    if filename.endswith('.csv'):\n",
        "        ticker = filename.split('.')[0]\n",
        "        file_path = os.path.join(sp500_dir, filename)\n",
        "\n",
        "        try:\n",
        "            # Read CSV file\n",
        "            df = pd.read_csv(file_path)\n",
        "\n",
        "            # Check if 'Close' column exists\n",
        "            if 'Close' not in df.columns:\n",
        "                print(f\"Error: 'Close' column not found in {filename}\")\n",
        "                print(f\"Available columns: {df.columns.tolist()}\")\n",
        "                continue\n",
        "\n",
        "            # Extract closing prices and convert to numpy array\n",
        "            closing_data = df['Close'].to_numpy()\n",
        "\n",
        "            # Check if closing_data is not empty before adding to the dictionary\n",
        "            if closing_data is not None and len(closing_data) > 0 and not np.isnan(closing_data).any():\n",
        "                # Save closing data in the dictionary\n",
        "                closing_prices[ticker] = closing_data\n",
        "                print(f\"Loaded {len(closing_data)} closing prices for {ticker}\")\n",
        "            else:\n",
        "                print(f\"No closing prices loaded for {ticker}\")\n",
        "\n",
        "        except Exception as e:\n",
        "            print(f\"Error processing {filename}: {str(e)}\")\n",
        "\n",
        "# Print the total number of stocks loaded\n",
        "print(f\"\\nTotal number of stocks loaded: {len(closing_prices)}\")\n",
        "\n",
        "# Print a sample of the data to verify\n",
        "if closing_prices:\n",
        "    sample_ticker = next(iter(closing_prices))\n",
        "    print(f\"\\nSample data for {sample_ticker}:\")\n",
        "    print(closing_prices[sample_ticker][:5])\n",
        "else:\n",
        "    print(\"\\nNo data loaded. Check the file paths and CSV format.\")\n"
      ]
    },
    {
      "cell_type": "code",
      "execution_count": null,
      "metadata": {
        "colab": {
          "base_uri": "https://localhost:8080/"
        },
        "id": "FSMylChooEnU",
        "outputId": "417cffd5-62f4-4a93-a543-0210b980d64b"
      },
      "outputs": [
        {
          "output_type": "stream",
          "name": "stdout",
          "text": [
            "(105278, 120)\n"
          ]
        }
      ],
      "source": [
        "from sklearn.preprocessing import RobustScaler\n",
        "\n",
        "def create_sequences(data, seq_length, stride=1):\n",
        "    x = []\n",
        "    for i in range(0, len(data) - seq_length + 1, stride):\n",
        "\n",
        "        x.append(data[i:i+seq_length])\n",
        "    return np.array(x)\n",
        "\n",
        "# Sequence length\n",
        "seq_length = 120\n",
        "telescope = 7\n",
        "\n",
        "# Dictionary to store training sequences for each stock\n",
        "x = []\n",
        "y = []\n",
        "\n",
        "for symbol, prices in closing_prices.items():\n",
        "    if len(prices) >= seq_length:\n",
        "        x_temp = create_sequences(prices, seq_length, stride = 30)\n",
        "        x.append(x_temp)\n",
        "    else:\n",
        "        print(f\"Warning: Not enough data for {symbol}. Needed {seq_length}, but only had {len(prices)}\")\n",
        "\n",
        "x = np.concatenate(x, axis=0)\n",
        "\n",
        "\n",
        "print(x.shape)\n",
        "\n"
      ]
    },
    {
      "cell_type": "code",
      "execution_count": null,
      "metadata": {
        "id": "VWZvoa_RoEnV",
        "colab": {
          "base_uri": "https://localhost:8080/",
          "height": 105
        },
        "outputId": "8cb2bba7-f60e-4329-868f-217b61b064d5"
      },
      "outputs": [
        {
          "output_type": "execute_result",
          "data": {
            "text/plain": [
              "'import numpy as np\\nfrom sklearn.preprocessing import RobustScaler\\nfrom tqdm import tqdm\\n\\n\\nscaler = RobustScaler()\\nscaled = scaler.fit_transform(x)\\n\\ndef applyRobustScaler(data):\\n    elements = []\\n\\n    # Use tqdm to track the progress of the loop\\n    for el in tqdm(data, desc=\"Normalizing Sequences\"):\\n        scaler = RobustScaler()\\n        reshaped = el.reshape(-1, 1)\\n        scaled = scaler.fit_transform(reshaped)\\n        normalized = scaled.flatten()\\n\\n        elements.append(normalized)\\n\\n    return np.array(elements)\\n'"
            ],
            "application/vnd.google.colaboratory.intrinsic+json": {
              "type": "string"
            }
          },
          "metadata": {},
          "execution_count": 26
        }
      ],
      "source": [
        "'''import numpy as np\n",
        "from sklearn.preprocessing import RobustScaler\n",
        "from tqdm import tqdm\n",
        "\n",
        "\n",
        "scaler = RobustScaler()\n",
        "scaled = scaler.fit_transform(x)\n",
        "\n",
        "def applyRobustScaler(data):\n",
        "    elements = []\n",
        "\n",
        "    # Use tqdm to track the progress of the loop\n",
        "    for el in tqdm(data, desc=\"Normalizing Sequences\"):\n",
        "        scaler = RobustScaler()\n",
        "        reshaped = el.reshape(-1, 1)\n",
        "        scaled = scaler.fit_transform(reshaped)\n",
        "        normalized = scaled.flatten()\n",
        "\n",
        "        elements.append(normalized)\n",
        "\n",
        "    return np.array(elements)\n",
        "'''"
      ]
    },
    {
      "cell_type": "code",
      "source": [
        "has_nan = np.isnan(x).any()\n",
        "\n",
        "if has_nan:\n",
        "    print(\"The array contains NaN values.\")\n",
        "    np.savetxt('array_with_nan_txt.csv', x)\n",
        "else:\n",
        "    print(\"The array does not contain NaN values.\")"
      ],
      "metadata": {
        "colab": {
          "base_uri": "https://localhost:8080/"
        },
        "id": "v9MfWywvfrtj",
        "outputId": "d3e8c15f-3253-4a86-dbf3-f74b8ef006c5"
      },
      "execution_count": null,
      "outputs": [
        {
          "output_type": "stream",
          "name": "stdout",
          "text": [
            "The array does not contain NaN values.\n"
          ]
        }
      ]
    },
    {
      "cell_type": "code",
      "source": [
        "from pandas import Series\n",
        "from sklearn.preprocessing import MinMaxScaler\n",
        "\n",
        "def applyRobustScaler (data):\n",
        "\n",
        "  elements = []\n",
        "\n",
        "  for el in data:\n",
        "\n",
        "    series = Series(el)\n",
        "    values = series.values\n",
        "    values = values.reshape((len(values), 1))\n",
        "    scaler = MinMaxScaler(feature_range=(0, 1))\n",
        "    scaler = scaler.fit(values)\n",
        "\n",
        "    normalized = scaler.transform(values)\n",
        "    normalized = normalized.flatten()\n",
        "\n",
        "    elements.append(normalized)\n",
        "\n",
        "  return np.array(elements)"
      ],
      "metadata": {
        "id": "neZ3Z3XMB-bt"
      },
      "execution_count": null,
      "outputs": []
    },
    {
      "cell_type": "code",
      "source": [
        "def split_xy(data, telescope):\n",
        "    x = data[:, :-telescope]\n",
        "    y = data[:, -telescope:]\n",
        "    return x, y"
      ],
      "metadata": {
        "id": "B_UdsuCjx_Af"
      },
      "execution_count": null,
      "outputs": []
    },
    {
      "cell_type": "code",
      "execution_count": null,
      "metadata": {
        "colab": {
          "base_uri": "https://localhost:8080/"
        },
        "id": "DkFH_7wHoEnV",
        "outputId": "7adfb865-4073-4a82-89d1-069e96bf01f6"
      },
      "outputs": [
        {
          "output_type": "stream",
          "name": "stdout",
          "text": [
            "(94750, 113) (94750, 7) (10528, 113) (10528, 7)\n"
          ]
        }
      ],
      "source": [
        "from sklearn.preprocessing import RobustScaler\n",
        "\n",
        "test_size = round(len(x) * 0.1)\n",
        "#val_size = round(len(x) * 0.2)\n",
        "\n",
        "train_size = len(x) - test_size\n",
        "\n",
        "#dataset split\n",
        "train = applyRobustScaler(x[:train_size])\n",
        "test = x[train_size:]\n",
        "\n",
        "#split dataset into data and prediction\n",
        "x_train, y_train = split_xy(train, telescope)\n",
        "x_test, y_test = split_xy(test, telescope)\n",
        "\n",
        "print(x_train.shape, y_train.shape, x_test.shape, y_test.shape)\n",
        "\n"
      ]
    },
    {
      "cell_type": "code",
      "execution_count": null,
      "metadata": {
        "colab": {
          "base_uri": "https://localhost:8080/"
        },
        "id": "9cTbmgGqOBgM",
        "outputId": "2292a0b1-158c-49a9-b9e8-e590a05a4f1f"
      },
      "outputs": [
        {
          "output_type": "execute_result",
          "data": {
            "text/plain": [
              "((94750, 113, 1), (94750, 7, 1), (10528, 113), (10528, 7))"
            ]
          },
          "metadata": {},
          "execution_count": 9
        }
      ],
      "source": [
        "# Reshape the data to (x, y, 1) format\n",
        "x_train = x_train[:,:, np.newaxis]\n",
        "y_train = y_train[:,:, np.newaxis]\n",
        "\n",
        "x_train.shape, y_train.shape, x_test.shape, y_test.shape"
      ]
    },
    {
      "cell_type": "code",
      "source": [
        "x_train.shape, y_train.shape, x_test.shape, y_test.shape"
      ],
      "metadata": {
        "colab": {
          "base_uri": "https://localhost:8080/"
        },
        "id": "DFjCrieN8Gku",
        "outputId": "856f4174-e880-4107-88b1-f61c3cd608d9"
      },
      "execution_count": null,
      "outputs": [
        {
          "output_type": "execute_result",
          "data": {
            "text/plain": [
              "((94750, 113, 1), (94750, 7, 1), (10528, 113), (10528, 7))"
            ]
          },
          "metadata": {},
          "execution_count": 10
        }
      ]
    },
    {
      "cell_type": "code",
      "source": [
        "input_size = x_train.shape[1:]\n",
        "output_size = y_train.shape[1]\n",
        "\n",
        "input_size, output_size"
      ],
      "metadata": {
        "colab": {
          "base_uri": "https://localhost:8080/"
        },
        "id": "o4v4MBJ23B6d",
        "outputId": "e3b68362-61fc-4f9c-c28a-d9bc9b132dd9"
      },
      "execution_count": null,
      "outputs": [
        {
          "output_type": "execute_result",
          "data": {
            "text/plain": [
              "((113, 1), 7)"
            ]
          },
          "metadata": {},
          "execution_count": 11
        }
      ]
    },
    {
      "cell_type": "code",
      "execution_count": null,
      "metadata": {
        "id": "avnmIlf-oEnV"
      },
      "outputs": [],
      "source": [
        "#model architecture\n",
        "\n",
        "def buildModel(input_shape, output_shape):\n",
        "\n",
        "    input_layer = tfkl.Input(shape=input_shape, name='Input')\n",
        "\n",
        "    x = tfkl.LSTM(128, return_sequences = True, name='lstm')(input_layer)\n",
        "\n",
        "    cnn = tfkl.Conv1D(128,3,padding = 'same', activation = 'relu')(x)\n",
        "    cnn = tfkl.MaxPooling1D()(cnn)\n",
        "\n",
        "    cnn = tfkl.Conv1D(256,3,padding = 'same', activation = 'relu')(cnn)\n",
        "    cnn = tfkl.MaxPooling1D()(cnn)\n",
        "\n",
        "    cnn = tfkl.Conv1D(512,3,padding = 'same', activation = 'relu')(cnn)\n",
        "    gap = tfkl.GlobalAveragePooling1D()(cnn)\n",
        "\n",
        "    dropout = tfkl.Dropout(.25, seed = seed)(gap)\n",
        "\n",
        "    dense = tfkl.Dense(512, activation = tf.keras.activations.mish, kernel_constraint=tfk.constraints.MaxNorm(1.5))(dropout)\n",
        "\n",
        "    dropout = tfkl.Dropout(.1, seed = seed)(dense)\n",
        "\n",
        "    dense = tfkl.Dense(128, activation = tf.keras.activations.mish, kernel_constraint=tfk.constraints.MaxNorm(1.5))(dropout)\n",
        "\n",
        "    output_layer = tfkl.Dense(output_shape, activation = 'linear')(dense)\n",
        "\n",
        "    model = tf.keras.Model(inputs = input_layer, outputs = output_layer, name='LSTMCNN_Model')\n",
        "\n",
        "\n",
        "\n",
        "\n",
        "    model.compile(\n",
        "    loss=tf.keras.losses.MeanSquaredError(),\n",
        "    optimizer=tf.keras.optimizers.Adam(\n",
        "        learning_rate=0.001,\n",
        "        beta_1=0.9,\n",
        "        beta_2=0.999,\n",
        "        epsilon=1e-07,\n",
        "        weight_decay=0.004,  # Adam doesn't officially have weight decay in Keras, but you can simulate it\n",
        "        name=\"Adam\"\n",
        "    ),\n",
        "    metrics=[tf.keras.metrics.MeanAbsoluteError()])\n",
        "\n",
        "    return model"
      ]
    },
    {
      "cell_type": "code",
      "source": [
        "model = buildModel(input_size, output_size)\n",
        "model.summary()"
      ],
      "metadata": {
        "id": "wYgwnb7N7BQs",
        "colab": {
          "base_uri": "https://localhost:8080/",
          "height": 595
        },
        "outputId": "778857a4-db01-4368-8c80-0bf9824d303d"
      },
      "execution_count": null,
      "outputs": [
        {
          "output_type": "display_data",
          "data": {
            "text/plain": [
              "\u001b[1mModel: \"LSTMCNN_Model\"\u001b[0m\n"
            ],
            "text/html": [
              "<pre style=\"white-space:pre;overflow-x:auto;line-height:normal;font-family:Menlo,'DejaVu Sans Mono',consolas,'Courier New',monospace\"><span style=\"font-weight: bold\">Model: \"LSTMCNN_Model\"</span>\n",
              "</pre>\n"
            ]
          },
          "metadata": {}
        },
        {
          "output_type": "display_data",
          "data": {
            "text/plain": [
              "┏━━━━━━━━━━━━━━━━━━━━━━━━━━━━━━━━━━━━━━┳━━━━━━━━━━━━━━━━━━━━━━━━━━━━━┳━━━━━━━━━━━━━━━━━┓\n",
              "┃\u001b[1m \u001b[0m\u001b[1mLayer (type)                        \u001b[0m\u001b[1m \u001b[0m┃\u001b[1m \u001b[0m\u001b[1mOutput Shape               \u001b[0m\u001b[1m \u001b[0m┃\u001b[1m \u001b[0m\u001b[1m        Param #\u001b[0m\u001b[1m \u001b[0m┃\n",
              "┡━━━━━━━━━━━━━━━━━━━━━━━━━━━━━━━━━━━━━━╇━━━━━━━━━━━━━━━━━━━━━━━━━━━━━╇━━━━━━━━━━━━━━━━━┩\n",
              "│ Input (\u001b[38;5;33mInputLayer\u001b[0m)                   │ (\u001b[38;5;45mNone\u001b[0m, \u001b[38;5;34m113\u001b[0m, \u001b[38;5;34m1\u001b[0m)              │               \u001b[38;5;34m0\u001b[0m │\n",
              "├──────────────────────────────────────┼─────────────────────────────┼─────────────────┤\n",
              "│ lstm (\u001b[38;5;33mLSTM\u001b[0m)                          │ (\u001b[38;5;45mNone\u001b[0m, \u001b[38;5;34m113\u001b[0m, \u001b[38;5;34m128\u001b[0m)            │          \u001b[38;5;34m66,560\u001b[0m │\n",
              "├──────────────────────────────────────┼─────────────────────────────┼─────────────────┤\n",
              "│ conv1d (\u001b[38;5;33mConv1D\u001b[0m)                      │ (\u001b[38;5;45mNone\u001b[0m, \u001b[38;5;34m113\u001b[0m, \u001b[38;5;34m128\u001b[0m)            │          \u001b[38;5;34m49,280\u001b[0m │\n",
              "├──────────────────────────────────────┼─────────────────────────────┼─────────────────┤\n",
              "│ max_pooling1d (\u001b[38;5;33mMaxPooling1D\u001b[0m)         │ (\u001b[38;5;45mNone\u001b[0m, \u001b[38;5;34m56\u001b[0m, \u001b[38;5;34m128\u001b[0m)             │               \u001b[38;5;34m0\u001b[0m │\n",
              "├──────────────────────────────────────┼─────────────────────────────┼─────────────────┤\n",
              "│ conv1d_1 (\u001b[38;5;33mConv1D\u001b[0m)                    │ (\u001b[38;5;45mNone\u001b[0m, \u001b[38;5;34m56\u001b[0m, \u001b[38;5;34m256\u001b[0m)             │          \u001b[38;5;34m98,560\u001b[0m │\n",
              "├──────────────────────────────────────┼─────────────────────────────┼─────────────────┤\n",
              "│ max_pooling1d_1 (\u001b[38;5;33mMaxPooling1D\u001b[0m)       │ (\u001b[38;5;45mNone\u001b[0m, \u001b[38;5;34m28\u001b[0m, \u001b[38;5;34m256\u001b[0m)             │               \u001b[38;5;34m0\u001b[0m │\n",
              "├──────────────────────────────────────┼─────────────────────────────┼─────────────────┤\n",
              "│ conv1d_2 (\u001b[38;5;33mConv1D\u001b[0m)                    │ (\u001b[38;5;45mNone\u001b[0m, \u001b[38;5;34m28\u001b[0m, \u001b[38;5;34m512\u001b[0m)             │         \u001b[38;5;34m393,728\u001b[0m │\n",
              "├──────────────────────────────────────┼─────────────────────────────┼─────────────────┤\n",
              "│ global_average_pooling1d             │ (\u001b[38;5;45mNone\u001b[0m, \u001b[38;5;34m512\u001b[0m)                 │               \u001b[38;5;34m0\u001b[0m │\n",
              "│ (\u001b[38;5;33mGlobalAveragePooling1D\u001b[0m)             │                             │                 │\n",
              "├──────────────────────────────────────┼─────────────────────────────┼─────────────────┤\n",
              "│ dropout (\u001b[38;5;33mDropout\u001b[0m)                    │ (\u001b[38;5;45mNone\u001b[0m, \u001b[38;5;34m512\u001b[0m)                 │               \u001b[38;5;34m0\u001b[0m │\n",
              "├──────────────────────────────────────┼─────────────────────────────┼─────────────────┤\n",
              "│ dense (\u001b[38;5;33mDense\u001b[0m)                        │ (\u001b[38;5;45mNone\u001b[0m, \u001b[38;5;34m512\u001b[0m)                 │         \u001b[38;5;34m262,656\u001b[0m │\n",
              "├──────────────────────────────────────┼─────────────────────────────┼─────────────────┤\n",
              "│ dropout_1 (\u001b[38;5;33mDropout\u001b[0m)                  │ (\u001b[38;5;45mNone\u001b[0m, \u001b[38;5;34m512\u001b[0m)                 │               \u001b[38;5;34m0\u001b[0m │\n",
              "├──────────────────────────────────────┼─────────────────────────────┼─────────────────┤\n",
              "│ dense_1 (\u001b[38;5;33mDense\u001b[0m)                      │ (\u001b[38;5;45mNone\u001b[0m, \u001b[38;5;34m128\u001b[0m)                 │          \u001b[38;5;34m65,664\u001b[0m │\n",
              "├──────────────────────────────────────┼─────────────────────────────┼─────────────────┤\n",
              "│ dense_2 (\u001b[38;5;33mDense\u001b[0m)                      │ (\u001b[38;5;45mNone\u001b[0m, \u001b[38;5;34m7\u001b[0m)                   │             \u001b[38;5;34m903\u001b[0m │\n",
              "└──────────────────────────────────────┴─────────────────────────────┴─────────────────┘\n"
            ],
            "text/html": [
              "<pre style=\"white-space:pre;overflow-x:auto;line-height:normal;font-family:Menlo,'DejaVu Sans Mono',consolas,'Courier New',monospace\">┏━━━━━━━━━━━━━━━━━━━━━━━━━━━━━━━━━━━━━━┳━━━━━━━━━━━━━━━━━━━━━━━━━━━━━┳━━━━━━━━━━━━━━━━━┓\n",
              "┃<span style=\"font-weight: bold\"> Layer (type)                         </span>┃<span style=\"font-weight: bold\"> Output Shape                </span>┃<span style=\"font-weight: bold\">         Param # </span>┃\n",
              "┡━━━━━━━━━━━━━━━━━━━━━━━━━━━━━━━━━━━━━━╇━━━━━━━━━━━━━━━━━━━━━━━━━━━━━╇━━━━━━━━━━━━━━━━━┩\n",
              "│ Input (<span style=\"color: #0087ff; text-decoration-color: #0087ff\">InputLayer</span>)                   │ (<span style=\"color: #00d7ff; text-decoration-color: #00d7ff\">None</span>, <span style=\"color: #00af00; text-decoration-color: #00af00\">113</span>, <span style=\"color: #00af00; text-decoration-color: #00af00\">1</span>)              │               <span style=\"color: #00af00; text-decoration-color: #00af00\">0</span> │\n",
              "├──────────────────────────────────────┼─────────────────────────────┼─────────────────┤\n",
              "│ lstm (<span style=\"color: #0087ff; text-decoration-color: #0087ff\">LSTM</span>)                          │ (<span style=\"color: #00d7ff; text-decoration-color: #00d7ff\">None</span>, <span style=\"color: #00af00; text-decoration-color: #00af00\">113</span>, <span style=\"color: #00af00; text-decoration-color: #00af00\">128</span>)            │          <span style=\"color: #00af00; text-decoration-color: #00af00\">66,560</span> │\n",
              "├──────────────────────────────────────┼─────────────────────────────┼─────────────────┤\n",
              "│ conv1d (<span style=\"color: #0087ff; text-decoration-color: #0087ff\">Conv1D</span>)                      │ (<span style=\"color: #00d7ff; text-decoration-color: #00d7ff\">None</span>, <span style=\"color: #00af00; text-decoration-color: #00af00\">113</span>, <span style=\"color: #00af00; text-decoration-color: #00af00\">128</span>)            │          <span style=\"color: #00af00; text-decoration-color: #00af00\">49,280</span> │\n",
              "├──────────────────────────────────────┼─────────────────────────────┼─────────────────┤\n",
              "│ max_pooling1d (<span style=\"color: #0087ff; text-decoration-color: #0087ff\">MaxPooling1D</span>)         │ (<span style=\"color: #00d7ff; text-decoration-color: #00d7ff\">None</span>, <span style=\"color: #00af00; text-decoration-color: #00af00\">56</span>, <span style=\"color: #00af00; text-decoration-color: #00af00\">128</span>)             │               <span style=\"color: #00af00; text-decoration-color: #00af00\">0</span> │\n",
              "├──────────────────────────────────────┼─────────────────────────────┼─────────────────┤\n",
              "│ conv1d_1 (<span style=\"color: #0087ff; text-decoration-color: #0087ff\">Conv1D</span>)                    │ (<span style=\"color: #00d7ff; text-decoration-color: #00d7ff\">None</span>, <span style=\"color: #00af00; text-decoration-color: #00af00\">56</span>, <span style=\"color: #00af00; text-decoration-color: #00af00\">256</span>)             │          <span style=\"color: #00af00; text-decoration-color: #00af00\">98,560</span> │\n",
              "├──────────────────────────────────────┼─────────────────────────────┼─────────────────┤\n",
              "│ max_pooling1d_1 (<span style=\"color: #0087ff; text-decoration-color: #0087ff\">MaxPooling1D</span>)       │ (<span style=\"color: #00d7ff; text-decoration-color: #00d7ff\">None</span>, <span style=\"color: #00af00; text-decoration-color: #00af00\">28</span>, <span style=\"color: #00af00; text-decoration-color: #00af00\">256</span>)             │               <span style=\"color: #00af00; text-decoration-color: #00af00\">0</span> │\n",
              "├──────────────────────────────────────┼─────────────────────────────┼─────────────────┤\n",
              "│ conv1d_2 (<span style=\"color: #0087ff; text-decoration-color: #0087ff\">Conv1D</span>)                    │ (<span style=\"color: #00d7ff; text-decoration-color: #00d7ff\">None</span>, <span style=\"color: #00af00; text-decoration-color: #00af00\">28</span>, <span style=\"color: #00af00; text-decoration-color: #00af00\">512</span>)             │         <span style=\"color: #00af00; text-decoration-color: #00af00\">393,728</span> │\n",
              "├──────────────────────────────────────┼─────────────────────────────┼─────────────────┤\n",
              "│ global_average_pooling1d             │ (<span style=\"color: #00d7ff; text-decoration-color: #00d7ff\">None</span>, <span style=\"color: #00af00; text-decoration-color: #00af00\">512</span>)                 │               <span style=\"color: #00af00; text-decoration-color: #00af00\">0</span> │\n",
              "│ (<span style=\"color: #0087ff; text-decoration-color: #0087ff\">GlobalAveragePooling1D</span>)             │                             │                 │\n",
              "├──────────────────────────────────────┼─────────────────────────────┼─────────────────┤\n",
              "│ dropout (<span style=\"color: #0087ff; text-decoration-color: #0087ff\">Dropout</span>)                    │ (<span style=\"color: #00d7ff; text-decoration-color: #00d7ff\">None</span>, <span style=\"color: #00af00; text-decoration-color: #00af00\">512</span>)                 │               <span style=\"color: #00af00; text-decoration-color: #00af00\">0</span> │\n",
              "├──────────────────────────────────────┼─────────────────────────────┼─────────────────┤\n",
              "│ dense (<span style=\"color: #0087ff; text-decoration-color: #0087ff\">Dense</span>)                        │ (<span style=\"color: #00d7ff; text-decoration-color: #00d7ff\">None</span>, <span style=\"color: #00af00; text-decoration-color: #00af00\">512</span>)                 │         <span style=\"color: #00af00; text-decoration-color: #00af00\">262,656</span> │\n",
              "├──────────────────────────────────────┼─────────────────────────────┼─────────────────┤\n",
              "│ dropout_1 (<span style=\"color: #0087ff; text-decoration-color: #0087ff\">Dropout</span>)                  │ (<span style=\"color: #00d7ff; text-decoration-color: #00d7ff\">None</span>, <span style=\"color: #00af00; text-decoration-color: #00af00\">512</span>)                 │               <span style=\"color: #00af00; text-decoration-color: #00af00\">0</span> │\n",
              "├──────────────────────────────────────┼─────────────────────────────┼─────────────────┤\n",
              "│ dense_1 (<span style=\"color: #0087ff; text-decoration-color: #0087ff\">Dense</span>)                      │ (<span style=\"color: #00d7ff; text-decoration-color: #00d7ff\">None</span>, <span style=\"color: #00af00; text-decoration-color: #00af00\">128</span>)                 │          <span style=\"color: #00af00; text-decoration-color: #00af00\">65,664</span> │\n",
              "├──────────────────────────────────────┼─────────────────────────────┼─────────────────┤\n",
              "│ dense_2 (<span style=\"color: #0087ff; text-decoration-color: #0087ff\">Dense</span>)                      │ (<span style=\"color: #00d7ff; text-decoration-color: #00d7ff\">None</span>, <span style=\"color: #00af00; text-decoration-color: #00af00\">7</span>)                   │             <span style=\"color: #00af00; text-decoration-color: #00af00\">903</span> │\n",
              "└──────────────────────────────────────┴─────────────────────────────┴─────────────────┘\n",
              "</pre>\n"
            ]
          },
          "metadata": {}
        },
        {
          "output_type": "display_data",
          "data": {
            "text/plain": [
              "\u001b[1m Total params: \u001b[0m\u001b[38;5;34m937,351\u001b[0m (3.58 MB)\n"
            ],
            "text/html": [
              "<pre style=\"white-space:pre;overflow-x:auto;line-height:normal;font-family:Menlo,'DejaVu Sans Mono',consolas,'Courier New',monospace\"><span style=\"font-weight: bold\"> Total params: </span><span style=\"color: #00af00; text-decoration-color: #00af00\">937,351</span> (3.58 MB)\n",
              "</pre>\n"
            ]
          },
          "metadata": {}
        },
        {
          "output_type": "display_data",
          "data": {
            "text/plain": [
              "\u001b[1m Trainable params: \u001b[0m\u001b[38;5;34m937,351\u001b[0m (3.58 MB)\n"
            ],
            "text/html": [
              "<pre style=\"white-space:pre;overflow-x:auto;line-height:normal;font-family:Menlo,'DejaVu Sans Mono',consolas,'Courier New',monospace\"><span style=\"font-weight: bold\"> Trainable params: </span><span style=\"color: #00af00; text-decoration-color: #00af00\">937,351</span> (3.58 MB)\n",
              "</pre>\n"
            ]
          },
          "metadata": {}
        },
        {
          "output_type": "display_data",
          "data": {
            "text/plain": [
              "\u001b[1m Non-trainable params: \u001b[0m\u001b[38;5;34m0\u001b[0m (0.00 B)\n"
            ],
            "text/html": [
              "<pre style=\"white-space:pre;overflow-x:auto;line-height:normal;font-family:Menlo,'DejaVu Sans Mono',consolas,'Courier New',monospace\"><span style=\"font-weight: bold\"> Non-trainable params: </span><span style=\"color: #00af00; text-decoration-color: #00af00\">0</span> (0.00 B)\n",
              "</pre>\n"
            ]
          },
          "metadata": {}
        }
      ]
    },
    {
      "cell_type": "code",
      "source": [
        "calls = [\n",
        "            tfk.callbacks.EarlyStopping(monitor = 'val_loss', mode = 'min', patience = 40, restore_best_weights = True),\n",
        "\n",
        "            tfk.callbacks.ReduceLROnPlateau(monitor = 'val_loss', mode = 'min', patience = 20, factor = 0.4, min_lr = 1e-5)\n",
        "      ]"
      ],
      "metadata": {
        "id": "6JG0pzHZ7Tod"
      },
      "execution_count": null,
      "outputs": []
    },
    {
      "cell_type": "code",
      "source": [
        "#model training\n",
        "history = model.fit(\n",
        "\n",
        "    x = x_train,\n",
        "    y = y_train,\n",
        "    batch_size = 128,\n",
        "    epochs = 300,\n",
        "    validation_split = .2,\n",
        "    callbacks = calls\n",
        "\n",
        ").history"
      ],
      "metadata": {
        "id": "lP4dWgFl7E7N",
        "colab": {
          "base_uri": "https://localhost:8080/"
        },
        "outputId": "1233133f-9098-4e15-b1be-9290b6ccd050"
      },
      "execution_count": null,
      "outputs": [
        {
          "output_type": "stream",
          "name": "stdout",
          "text": [
            "Epoch 1/300\n",
            "\u001b[1m593/593\u001b[0m \u001b[32m━━━━━━━━━━━━━━━━━━━━\u001b[0m\u001b[37m\u001b[0m \u001b[1m10s\u001b[0m 11ms/step - loss: 0.0672 - mean_absolute_error: 0.1931 - val_loss: 0.0203 - val_mean_absolute_error: 0.1087 - learning_rate: 0.0010\n",
            "Epoch 2/300\n",
            "\u001b[1m593/593\u001b[0m \u001b[32m━━━━━━━━━━━━━━━━━━━━\u001b[0m\u001b[37m\u001b[0m \u001b[1m6s\u001b[0m 11ms/step - loss: 0.0188 - mean_absolute_error: 0.1018 - val_loss: 0.0184 - val_mean_absolute_error: 0.1012 - learning_rate: 0.0010\n",
            "Epoch 3/300\n",
            "\u001b[1m593/593\u001b[0m \u001b[32m━━━━━━━━━━━━━━━━━━━━\u001b[0m\u001b[37m\u001b[0m \u001b[1m6s\u001b[0m 10ms/step - loss: 0.0177 - mean_absolute_error: 0.0980 - val_loss: 0.0175 - val_mean_absolute_error: 0.0963 - learning_rate: 0.0010\n",
            "Epoch 4/300\n",
            "\u001b[1m593/593\u001b[0m \u001b[32m━━━━━━━━━━━━━━━━━━━━\u001b[0m\u001b[37m\u001b[0m \u001b[1m6s\u001b[0m 11ms/step - loss: 0.0172 - mean_absolute_error: 0.0963 - val_loss: 0.0171 - val_mean_absolute_error: 0.0947 - learning_rate: 0.0010\n",
            "Epoch 5/300\n",
            "\u001b[1m593/593\u001b[0m \u001b[32m━━━━━━━━━━━━━━━━━━━━\u001b[0m\u001b[37m\u001b[0m \u001b[1m6s\u001b[0m 10ms/step - loss: 0.0170 - mean_absolute_error: 0.0953 - val_loss: 0.0170 - val_mean_absolute_error: 0.0945 - learning_rate: 0.0010\n",
            "Epoch 6/300\n",
            "\u001b[1m593/593\u001b[0m \u001b[32m━━━━━━━━━━━━━━━━━━━━\u001b[0m\u001b[37m\u001b[0m \u001b[1m6s\u001b[0m 11ms/step - loss: 0.0166 - mean_absolute_error: 0.0942 - val_loss: 0.0173 - val_mean_absolute_error: 0.0978 - learning_rate: 0.0010\n",
            "Epoch 7/300\n",
            "\u001b[1m593/593\u001b[0m \u001b[32m━━━━━━━━━━━━━━━━━━━━\u001b[0m\u001b[37m\u001b[0m \u001b[1m6s\u001b[0m 10ms/step - loss: 0.0163 - mean_absolute_error: 0.0933 - val_loss: 0.0175 - val_mean_absolute_error: 0.0971 - learning_rate: 0.0010\n",
            "Epoch 8/300\n",
            "\u001b[1m593/593\u001b[0m \u001b[32m━━━━━━━━━━━━━━━━━━━━\u001b[0m\u001b[37m\u001b[0m \u001b[1m6s\u001b[0m 11ms/step - loss: 0.0159 - mean_absolute_error: 0.0921 - val_loss: 0.0174 - val_mean_absolute_error: 0.0982 - learning_rate: 0.0010\n",
            "Epoch 9/300\n",
            "\u001b[1m593/593\u001b[0m \u001b[32m━━━━━━━━━━━━━━━━━━━━\u001b[0m\u001b[37m\u001b[0m \u001b[1m6s\u001b[0m 10ms/step - loss: 0.0155 - mean_absolute_error: 0.0911 - val_loss: 0.0159 - val_mean_absolute_error: 0.0933 - learning_rate: 0.0010\n",
            "Epoch 10/300\n",
            "\u001b[1m593/593\u001b[0m \u001b[32m━━━━━━━━━━━━━━━━━━━━\u001b[0m\u001b[37m\u001b[0m \u001b[1m6s\u001b[0m 11ms/step - loss: 0.0150 - mean_absolute_error: 0.0899 - val_loss: 0.0151 - val_mean_absolute_error: 0.0909 - learning_rate: 0.0010\n",
            "Epoch 11/300\n",
            "\u001b[1m593/593\u001b[0m \u001b[32m━━━━━━━━━━━━━━━━━━━━\u001b[0m\u001b[37m\u001b[0m \u001b[1m6s\u001b[0m 10ms/step - loss: 0.0148 - mean_absolute_error: 0.0895 - val_loss: 0.0148 - val_mean_absolute_error: 0.0898 - learning_rate: 0.0010\n",
            "Epoch 12/300\n",
            "\u001b[1m593/593\u001b[0m \u001b[32m━━━━━━━━━━━━━━━━━━━━\u001b[0m\u001b[37m\u001b[0m \u001b[1m6s\u001b[0m 11ms/step - loss: 0.0144 - mean_absolute_error: 0.0882 - val_loss: 0.0142 - val_mean_absolute_error: 0.0877 - learning_rate: 0.0010\n",
            "Epoch 13/300\n",
            "\u001b[1m593/593\u001b[0m \u001b[32m━━━━━━━━━━━━━━━━━━━━\u001b[0m\u001b[37m\u001b[0m \u001b[1m6s\u001b[0m 10ms/step - loss: 0.0141 - mean_absolute_error: 0.0872 - val_loss: 0.0141 - val_mean_absolute_error: 0.0875 - learning_rate: 0.0010\n",
            "Epoch 14/300\n",
            "\u001b[1m593/593\u001b[0m \u001b[32m━━━━━━━━━━━━━━━━━━━━\u001b[0m\u001b[37m\u001b[0m \u001b[1m6s\u001b[0m 11ms/step - loss: 0.0140 - mean_absolute_error: 0.0871 - val_loss: 0.0147 - val_mean_absolute_error: 0.0891 - learning_rate: 0.0010\n",
            "Epoch 15/300\n",
            "\u001b[1m593/593\u001b[0m \u001b[32m━━━━━━━━━━━━━━━━━━━━\u001b[0m\u001b[37m\u001b[0m \u001b[1m6s\u001b[0m 10ms/step - loss: 0.0138 - mean_absolute_error: 0.0862 - val_loss: 0.0140 - val_mean_absolute_error: 0.0865 - learning_rate: 0.0010\n",
            "Epoch 16/300\n",
            "\u001b[1m593/593\u001b[0m \u001b[32m━━━━━━━━━━━━━━━━━━━━\u001b[0m\u001b[37m\u001b[0m \u001b[1m6s\u001b[0m 11ms/step - loss: 0.0137 - mean_absolute_error: 0.0858 - val_loss: 0.0137 - val_mean_absolute_error: 0.0849 - learning_rate: 0.0010\n",
            "Epoch 17/300\n",
            "\u001b[1m593/593\u001b[0m \u001b[32m━━━━━━━━━━━━━━━━━━━━\u001b[0m\u001b[37m\u001b[0m \u001b[1m6s\u001b[0m 10ms/step - loss: 0.0136 - mean_absolute_error: 0.0857 - val_loss: 0.0137 - val_mean_absolute_error: 0.0853 - learning_rate: 0.0010\n",
            "Epoch 18/300\n",
            "\u001b[1m593/593\u001b[0m \u001b[32m━━━━━━━━━━━━━━━━━━━━\u001b[0m\u001b[37m\u001b[0m \u001b[1m6s\u001b[0m 11ms/step - loss: 0.0136 - mean_absolute_error: 0.0855 - val_loss: 0.0138 - val_mean_absolute_error: 0.0864 - learning_rate: 0.0010\n",
            "Epoch 19/300\n",
            "\u001b[1m593/593\u001b[0m \u001b[32m━━━━━━━━━━━━━━━━━━━━\u001b[0m\u001b[37m\u001b[0m \u001b[1m6s\u001b[0m 10ms/step - loss: 0.0136 - mean_absolute_error: 0.0854 - val_loss: 0.0141 - val_mean_absolute_error: 0.0864 - learning_rate: 0.0010\n",
            "Epoch 20/300\n",
            "\u001b[1m593/593\u001b[0m \u001b[32m━━━━━━━━━━━━━━━━━━━━\u001b[0m\u001b[37m\u001b[0m \u001b[1m6s\u001b[0m 10ms/step - loss: 0.0134 - mean_absolute_error: 0.0847 - val_loss: 0.0135 - val_mean_absolute_error: 0.0851 - learning_rate: 0.0010\n",
            "Epoch 21/300\n",
            "\u001b[1m593/593\u001b[0m \u001b[32m━━━━━━━━━━━━━━━━━━━━\u001b[0m\u001b[37m\u001b[0m \u001b[1m6s\u001b[0m 10ms/step - loss: 0.0133 - mean_absolute_error: 0.0848 - val_loss: 0.0138 - val_mean_absolute_error: 0.0871 - learning_rate: 0.0010\n",
            "Epoch 22/300\n",
            "\u001b[1m593/593\u001b[0m \u001b[32m━━━━━━━━━━━━━━━━━━━━\u001b[0m\u001b[37m\u001b[0m \u001b[1m6s\u001b[0m 11ms/step - loss: 0.0133 - mean_absolute_error: 0.0846 - val_loss: 0.0136 - val_mean_absolute_error: 0.0852 - learning_rate: 0.0010\n",
            "Epoch 23/300\n",
            "\u001b[1m593/593\u001b[0m \u001b[32m━━━━━━━━━━━━━━━━━━━━\u001b[0m\u001b[37m\u001b[0m \u001b[1m6s\u001b[0m 10ms/step - loss: 0.0132 - mean_absolute_error: 0.0843 - val_loss: 0.0136 - val_mean_absolute_error: 0.0844 - learning_rate: 0.0010\n",
            "Epoch 24/300\n",
            "\u001b[1m593/593\u001b[0m \u001b[32m━━━━━━━━━━━━━━━━━━━━\u001b[0m\u001b[37m\u001b[0m \u001b[1m6s\u001b[0m 11ms/step - loss: 0.0132 - mean_absolute_error: 0.0844 - val_loss: 0.0136 - val_mean_absolute_error: 0.0854 - learning_rate: 0.0010\n",
            "Epoch 25/300\n",
            "\u001b[1m593/593\u001b[0m \u001b[32m━━━━━━━━━━━━━━━━━━━━\u001b[0m\u001b[37m\u001b[0m \u001b[1m6s\u001b[0m 10ms/step - loss: 0.0131 - mean_absolute_error: 0.0840 - val_loss: 0.0140 - val_mean_absolute_error: 0.0870 - learning_rate: 0.0010\n",
            "Epoch 26/300\n",
            "\u001b[1m593/593\u001b[0m \u001b[32m━━━━━━━━━━━━━━━━━━━━\u001b[0m\u001b[37m\u001b[0m \u001b[1m6s\u001b[0m 11ms/step - loss: 0.0131 - mean_absolute_error: 0.0840 - val_loss: 0.0137 - val_mean_absolute_error: 0.0857 - learning_rate: 0.0010\n",
            "Epoch 27/300\n",
            "\u001b[1m593/593\u001b[0m \u001b[32m━━━━━━━━━━━━━━━━━━━━\u001b[0m\u001b[37m\u001b[0m \u001b[1m6s\u001b[0m 10ms/step - loss: 0.0131 - mean_absolute_error: 0.0839 - val_loss: 0.0135 - val_mean_absolute_error: 0.0849 - learning_rate: 0.0010\n",
            "Epoch 28/300\n",
            "\u001b[1m593/593\u001b[0m \u001b[32m━━━━━━━━━━━━━━━━━━━━\u001b[0m\u001b[37m\u001b[0m \u001b[1m6s\u001b[0m 11ms/step - loss: 0.0129 - mean_absolute_error: 0.0835 - val_loss: 0.0134 - val_mean_absolute_error: 0.0834 - learning_rate: 0.0010\n",
            "Epoch 29/300\n",
            "\u001b[1m593/593\u001b[0m \u001b[32m━━━━━━━━━━━━━━━━━━━━\u001b[0m\u001b[37m\u001b[0m \u001b[1m6s\u001b[0m 10ms/step - loss: 0.0129 - mean_absolute_error: 0.0833 - val_loss: 0.0140 - val_mean_absolute_error: 0.0861 - learning_rate: 0.0010\n",
            "Epoch 30/300\n",
            "\u001b[1m593/593\u001b[0m \u001b[32m━━━━━━━━━━━━━━━━━━━━\u001b[0m\u001b[37m\u001b[0m \u001b[1m6s\u001b[0m 11ms/step - loss: 0.0128 - mean_absolute_error: 0.0832 - val_loss: 0.0136 - val_mean_absolute_error: 0.0849 - learning_rate: 0.0010\n",
            "Epoch 31/300\n",
            "\u001b[1m593/593\u001b[0m \u001b[32m━━━━━━━━━━━━━━━━━━━━\u001b[0m\u001b[37m\u001b[0m \u001b[1m6s\u001b[0m 10ms/step - loss: 0.0128 - mean_absolute_error: 0.0832 - val_loss: 0.0137 - val_mean_absolute_error: 0.0846 - learning_rate: 0.0010\n",
            "Epoch 32/300\n",
            "\u001b[1m593/593\u001b[0m \u001b[32m━━━━━━━━━━━━━━━━━━━━\u001b[0m\u001b[37m\u001b[0m \u001b[1m6s\u001b[0m 11ms/step - loss: 0.0127 - mean_absolute_error: 0.0830 - val_loss: 0.0136 - val_mean_absolute_error: 0.0851 - learning_rate: 0.0010\n",
            "Epoch 33/300\n",
            "\u001b[1m593/593\u001b[0m \u001b[32m━━━━━━━━━━━━━━━━━━━━\u001b[0m\u001b[37m\u001b[0m \u001b[1m6s\u001b[0m 10ms/step - loss: 0.0127 - mean_absolute_error: 0.0827 - val_loss: 0.0151 - val_mean_absolute_error: 0.0906 - learning_rate: 0.0010\n",
            "Epoch 34/300\n",
            "\u001b[1m593/593\u001b[0m \u001b[32m━━━━━━━━━━━━━━━━━━━━\u001b[0m\u001b[37m\u001b[0m \u001b[1m6s\u001b[0m 11ms/step - loss: 0.0128 - mean_absolute_error: 0.0832 - val_loss: 0.0136 - val_mean_absolute_error: 0.0853 - learning_rate: 0.0010\n",
            "Epoch 35/300\n",
            "\u001b[1m593/593\u001b[0m \u001b[32m━━━━━━━━━━━━━━━━━━━━\u001b[0m\u001b[37m\u001b[0m \u001b[1m6s\u001b[0m 10ms/step - loss: 0.0126 - mean_absolute_error: 0.0825 - val_loss: 0.0140 - val_mean_absolute_error: 0.0862 - learning_rate: 0.0010\n",
            "Epoch 36/300\n",
            "\u001b[1m593/593\u001b[0m \u001b[32m━━━━━━━━━━━━━━━━━━━━\u001b[0m\u001b[37m\u001b[0m \u001b[1m6s\u001b[0m 11ms/step - loss: 0.0126 - mean_absolute_error: 0.0826 - val_loss: 0.0137 - val_mean_absolute_error: 0.0851 - learning_rate: 0.0010\n",
            "Epoch 37/300\n",
            "\u001b[1m593/593\u001b[0m \u001b[32m━━━━━━━━━━━━━━━━━━━━\u001b[0m\u001b[37m\u001b[0m \u001b[1m6s\u001b[0m 10ms/step - loss: 0.0125 - mean_absolute_error: 0.0824 - val_loss: 0.0139 - val_mean_absolute_error: 0.0861 - learning_rate: 0.0010\n",
            "Epoch 38/300\n",
            "\u001b[1m593/593\u001b[0m \u001b[32m━━━━━━━━━━━━━━━━━━━━\u001b[0m\u001b[37m\u001b[0m \u001b[1m6s\u001b[0m 10ms/step - loss: 0.0124 - mean_absolute_error: 0.0822 - val_loss: 0.0140 - val_mean_absolute_error: 0.0850 - learning_rate: 0.0010\n",
            "Epoch 39/300\n",
            "\u001b[1m593/593\u001b[0m \u001b[32m━━━━━━━━━━━━━━━━━━━━\u001b[0m\u001b[37m\u001b[0m \u001b[1m6s\u001b[0m 10ms/step - loss: 0.0123 - mean_absolute_error: 0.0817 - val_loss: 0.0137 - val_mean_absolute_error: 0.0842 - learning_rate: 0.0010\n",
            "Epoch 40/300\n",
            "\u001b[1m593/593\u001b[0m \u001b[32m━━━━━━━━━━━━━━━━━━━━\u001b[0m\u001b[37m\u001b[0m \u001b[1m6s\u001b[0m 11ms/step - loss: 0.0123 - mean_absolute_error: 0.0816 - val_loss: 0.0138 - val_mean_absolute_error: 0.0845 - learning_rate: 0.0010\n",
            "Epoch 41/300\n",
            "\u001b[1m593/593\u001b[0m \u001b[32m━━━━━━━━━━━━━━━━━━━━\u001b[0m\u001b[37m\u001b[0m \u001b[1m6s\u001b[0m 10ms/step - loss: 0.0121 - mean_absolute_error: 0.0812 - val_loss: 0.0144 - val_mean_absolute_error: 0.0874 - learning_rate: 0.0010\n",
            "Epoch 42/300\n",
            "\u001b[1m593/593\u001b[0m \u001b[32m━━━━━━━━━━━━━━━━━━━━\u001b[0m\u001b[37m\u001b[0m \u001b[1m6s\u001b[0m 11ms/step - loss: 0.0121 - mean_absolute_error: 0.0811 - val_loss: 0.0144 - val_mean_absolute_error: 0.0872 - learning_rate: 0.0010\n",
            "Epoch 43/300\n",
            "\u001b[1m593/593\u001b[0m \u001b[32m━━━━━━━━━━━━━━━━━━━━\u001b[0m\u001b[37m\u001b[0m \u001b[1m6s\u001b[0m 10ms/step - loss: 0.0120 - mean_absolute_error: 0.0808 - val_loss: 0.0142 - val_mean_absolute_error: 0.0866 - learning_rate: 0.0010\n",
            "Epoch 44/300\n",
            "\u001b[1m593/593\u001b[0m \u001b[32m━━━━━━━━━━━━━━━━━━━━\u001b[0m\u001b[37m\u001b[0m \u001b[1m6s\u001b[0m 11ms/step - loss: 0.0119 - mean_absolute_error: 0.0806 - val_loss: 0.0153 - val_mean_absolute_error: 0.0904 - learning_rate: 0.0010\n",
            "Epoch 45/300\n",
            "\u001b[1m593/593\u001b[0m \u001b[32m━━━━━━━━━━━━━━━━━━━━\u001b[0m\u001b[37m\u001b[0m \u001b[1m6s\u001b[0m 10ms/step - loss: 0.0119 - mean_absolute_error: 0.0805 - val_loss: 0.0147 - val_mean_absolute_error: 0.0883 - learning_rate: 0.0010\n",
            "Epoch 46/300\n",
            "\u001b[1m593/593\u001b[0m \u001b[32m━━━━━━━━━━━━━━━━━━━━\u001b[0m\u001b[37m\u001b[0m \u001b[1m6s\u001b[0m 11ms/step - loss: 0.0118 - mean_absolute_error: 0.0802 - val_loss: 0.0148 - val_mean_absolute_error: 0.0883 - learning_rate: 0.0010\n",
            "Epoch 47/300\n",
            "\u001b[1m593/593\u001b[0m \u001b[32m━━━━━━━━━━━━━━━━━━━━\u001b[0m\u001b[37m\u001b[0m \u001b[1m6s\u001b[0m 10ms/step - loss: 0.0116 - mean_absolute_error: 0.0797 - val_loss: 0.0146 - val_mean_absolute_error: 0.0877 - learning_rate: 0.0010\n",
            "Epoch 48/300\n",
            "\u001b[1m593/593\u001b[0m \u001b[32m━━━━━━━━━━━━━━━━━━━━\u001b[0m\u001b[37m\u001b[0m \u001b[1m6s\u001b[0m 11ms/step - loss: 0.0115 - mean_absolute_error: 0.0794 - val_loss: 0.0145 - val_mean_absolute_error: 0.0878 - learning_rate: 0.0010\n",
            "Epoch 49/300\n",
            "\u001b[1m593/593\u001b[0m \u001b[32m━━━━━━━━━━━━━━━━━━━━\u001b[0m\u001b[37m\u001b[0m \u001b[1m6s\u001b[0m 10ms/step - loss: 0.0113 - mean_absolute_error: 0.0785 - val_loss: 0.0146 - val_mean_absolute_error: 0.0886 - learning_rate: 4.0000e-04\n",
            "Epoch 50/300\n",
            "\u001b[1m593/593\u001b[0m \u001b[32m━━━━━━━━━━━━━━━━━━━━\u001b[0m\u001b[37m\u001b[0m \u001b[1m6s\u001b[0m 11ms/step - loss: 0.0112 - mean_absolute_error: 0.0781 - val_loss: 0.0147 - val_mean_absolute_error: 0.0889 - learning_rate: 4.0000e-04\n",
            "Epoch 51/300\n",
            "\u001b[1m593/593\u001b[0m \u001b[32m━━━━━━━━━━━━━━━━━━━━\u001b[0m\u001b[37m\u001b[0m \u001b[1m6s\u001b[0m 10ms/step - loss: 0.0110 - mean_absolute_error: 0.0779 - val_loss: 0.0146 - val_mean_absolute_error: 0.0885 - learning_rate: 4.0000e-04\n",
            "Epoch 52/300\n",
            "\u001b[1m593/593\u001b[0m \u001b[32m━━━━━━━━━━━━━━━━━━━━\u001b[0m\u001b[37m\u001b[0m \u001b[1m6s\u001b[0m 11ms/step - loss: 0.0109 - mean_absolute_error: 0.0775 - val_loss: 0.0146 - val_mean_absolute_error: 0.0880 - learning_rate: 4.0000e-04\n",
            "Epoch 53/300\n",
            "\u001b[1m593/593\u001b[0m \u001b[32m━━━━━━━━━━━━━━━━━━━━\u001b[0m\u001b[37m\u001b[0m \u001b[1m6s\u001b[0m 10ms/step - loss: 0.0108 - mean_absolute_error: 0.0771 - val_loss: 0.0148 - val_mean_absolute_error: 0.0885 - learning_rate: 4.0000e-04\n",
            "Epoch 54/300\n",
            "\u001b[1m593/593\u001b[0m \u001b[32m━━━━━━━━━━━━━━━━━━━━\u001b[0m\u001b[37m\u001b[0m \u001b[1m6s\u001b[0m 11ms/step - loss: 0.0107 - mean_absolute_error: 0.0768 - val_loss: 0.0148 - val_mean_absolute_error: 0.0883 - learning_rate: 4.0000e-04\n",
            "Epoch 55/300\n",
            "\u001b[1m593/593\u001b[0m \u001b[32m━━━━━━━━━━━━━━━━━━━━\u001b[0m\u001b[37m\u001b[0m \u001b[1m6s\u001b[0m 10ms/step - loss: 0.0106 - mean_absolute_error: 0.0766 - val_loss: 0.0149 - val_mean_absolute_error: 0.0889 - learning_rate: 4.0000e-04\n",
            "Epoch 56/300\n",
            "\u001b[1m593/593\u001b[0m \u001b[32m━━━━━━━━━━━━━━━━━━━━\u001b[0m\u001b[37m\u001b[0m \u001b[1m6s\u001b[0m 11ms/step - loss: 0.0106 - mean_absolute_error: 0.0764 - val_loss: 0.0150 - val_mean_absolute_error: 0.0889 - learning_rate: 4.0000e-04\n",
            "Epoch 57/300\n",
            "\u001b[1m593/593\u001b[0m \u001b[32m━━━━━━━━━━━━━━━━━━━━\u001b[0m\u001b[37m\u001b[0m \u001b[1m6s\u001b[0m 10ms/step - loss: 0.0105 - mean_absolute_error: 0.0760 - val_loss: 0.0150 - val_mean_absolute_error: 0.0890 - learning_rate: 4.0000e-04\n",
            "Epoch 58/300\n",
            "\u001b[1m593/593\u001b[0m \u001b[32m━━━━━━━━━━━━━━━━━━━━\u001b[0m\u001b[37m\u001b[0m \u001b[1m6s\u001b[0m 11ms/step - loss: 0.0105 - mean_absolute_error: 0.0760 - val_loss: 0.0152 - val_mean_absolute_error: 0.0900 - learning_rate: 4.0000e-04\n",
            "Epoch 59/300\n",
            "\u001b[1m593/593\u001b[0m \u001b[32m━━━━━━━━━━━━━━━━━━━━\u001b[0m\u001b[37m\u001b[0m \u001b[1m6s\u001b[0m 10ms/step - loss: 0.0104 - mean_absolute_error: 0.0757 - val_loss: 0.0151 - val_mean_absolute_error: 0.0899 - learning_rate: 4.0000e-04\n",
            "Epoch 60/300\n",
            "\u001b[1m593/593\u001b[0m \u001b[32m━━━━━━━━━━━━━━━━━━━━\u001b[0m\u001b[37m\u001b[0m \u001b[1m6s\u001b[0m 11ms/step - loss: 0.0103 - mean_absolute_error: 0.0754 - val_loss: 0.0147 - val_mean_absolute_error: 0.0885 - learning_rate: 4.0000e-04\n",
            "Epoch 61/300\n",
            "\u001b[1m593/593\u001b[0m \u001b[32m━━━━━━━━━━━━━━━━━━━━\u001b[0m\u001b[37m\u001b[0m \u001b[1m6s\u001b[0m 10ms/step - loss: 0.0103 - mean_absolute_error: 0.0754 - val_loss: 0.0151 - val_mean_absolute_error: 0.0899 - learning_rate: 4.0000e-04\n",
            "Epoch 62/300\n",
            "\u001b[1m593/593\u001b[0m \u001b[32m━━━━━━━━━━━━━━━━━━━━\u001b[0m\u001b[37m\u001b[0m \u001b[1m6s\u001b[0m 11ms/step - loss: 0.0102 - mean_absolute_error: 0.0751 - val_loss: 0.0153 - val_mean_absolute_error: 0.0902 - learning_rate: 4.0000e-04\n",
            "Epoch 63/300\n",
            "\u001b[1m593/593\u001b[0m \u001b[32m━━━━━━━━━━━━━━━━━━━━\u001b[0m\u001b[37m\u001b[0m \u001b[1m6s\u001b[0m 10ms/step - loss: 0.0101 - mean_absolute_error: 0.0747 - val_loss: 0.0150 - val_mean_absolute_error: 0.0888 - learning_rate: 4.0000e-04\n",
            "Epoch 64/300\n",
            "\u001b[1m593/593\u001b[0m \u001b[32m━━━━━━━━━━━━━━━━━━━━\u001b[0m\u001b[37m\u001b[0m \u001b[1m6s\u001b[0m 11ms/step - loss: 0.0101 - mean_absolute_error: 0.0747 - val_loss: 0.0159 - val_mean_absolute_error: 0.0921 - learning_rate: 4.0000e-04\n",
            "Epoch 65/300\n",
            "\u001b[1m593/593\u001b[0m \u001b[32m━━━━━━━━━━━━━━━━━━━━\u001b[0m\u001b[37m\u001b[0m \u001b[1m6s\u001b[0m 10ms/step - loss: 0.0099 - mean_absolute_error: 0.0743 - val_loss: 0.0149 - val_mean_absolute_error: 0.0891 - learning_rate: 4.0000e-04\n",
            "Epoch 66/300\n",
            "\u001b[1m593/593\u001b[0m \u001b[32m━━━━━━━━━━━━━━━━━━━━\u001b[0m\u001b[37m\u001b[0m \u001b[1m6s\u001b[0m 11ms/step - loss: 0.0099 - mean_absolute_error: 0.0741 - val_loss: 0.0154 - val_mean_absolute_error: 0.0905 - learning_rate: 4.0000e-04\n",
            "Epoch 67/300\n",
            "\u001b[1m593/593\u001b[0m \u001b[32m━━━━━━━━━━━━━━━━━━━━\u001b[0m\u001b[37m\u001b[0m \u001b[1m6s\u001b[0m 10ms/step - loss: 0.0098 - mean_absolute_error: 0.0738 - val_loss: 0.0157 - val_mean_absolute_error: 0.0916 - learning_rate: 4.0000e-04\n",
            "Epoch 68/300\n",
            "\u001b[1m593/593\u001b[0m \u001b[32m━━━━━━━━━━━━━━━━━━━━\u001b[0m\u001b[37m\u001b[0m \u001b[1m6s\u001b[0m 11ms/step - loss: 0.0098 - mean_absolute_error: 0.0738 - val_loss: 0.0154 - val_mean_absolute_error: 0.0903 - learning_rate: 4.0000e-04\n"
          ]
        }
      ]
    },
    {
      "cell_type": "code",
      "source": [
        "model.save('model.keras')"
      ],
      "metadata": {
        "id": "RC1SIeGIN_ns"
      },
      "execution_count": null,
      "outputs": []
    },
    {
      "cell_type": "markdown",
      "source": [
        "TEST MODEL\n"
      ],
      "metadata": {
        "id": "EuaIOS0-RWa8"
      }
    },
    {
      "cell_type": "code",
      "source": [
        "from tensorflow.python.keras.models import load_model\n",
        "model = tf.keras.models.load_model('model.keras')"
      ],
      "metadata": {
        "id": "mdvJqOK8RW3m"
      },
      "execution_count": null,
      "outputs": []
    },
    {
      "cell_type": "code",
      "source": [
        "from sklearn.preprocessing import MinMaxScaler\n",
        "import numpy as np\n",
        "\n",
        "def predict(model, x):\n",
        "\n",
        "    #reshape x to fit the model\n",
        "    x = x[:, np.newaxis]\n",
        "\n",
        "    #scale x to fit model training\n",
        "    minmax = MinMaxScaler()\n",
        "    minmax.fit(x)\n",
        "    x_scaled = minmax.transform(x)\n",
        "\n",
        "    # bootstrap predictions 4 times for 7 time steps each, obtaining 28 days prediction\n",
        "    num_bootstrap_steps = 4\n",
        "    y_pred_scaled_list = []\n",
        "\n",
        "    # iteratively predict the next point and append to x_sample_scaled\n",
        "    current_input = x_scaled.copy()\n",
        "    for step in range(num_bootstrap_steps):\n",
        "    # Predict using the model on scaled current input\n",
        "        y_pred_scaled = model.predict(current_input[np.newaxis, :, :])  # Add batch dimension for prediction\n",
        "\n",
        "        # Append the predicted value to the list\n",
        "        y_pred_scaled_list.append(y_pred_scaled[0, :])  # Prediction is 7 points\n",
        "\n",
        "        # Shift the input sequence by removing the oldest value and appending the new predicted value\n",
        "        current_input = np.append(current_input[7:], y_pred_scaled.reshape(7,1), axis=0)\n",
        "\n",
        "    # Inverse transform the predictions to get them back to original scale\n",
        "    y_pred = minmax.inverse_transform(np.array(y_pred_scaled_list).reshape(-1, 1)).flatten()\n",
        "\n",
        "    return y_pred\n",
        "\n",
        "sample_index = random.randrange(0, x_test.shape[0])  # Randomly select an index\n",
        "x_sample = x_test[sample_index, :]\n",
        "\n",
        "y_pred = predict(model, x_sample)\n",
        "\n",
        "y_pred\n",
        "\n",
        "print(x_sample.shape, y_pred.shape)\n",
        "\n",
        "# Concatenate the original and predicted values for a smooth connection\n",
        "all_values = np.concatenate((x_sample, y_pred))\n",
        "\n",
        "# Create a range for the x-axis (time steps) including the bootstrapped future steps\n",
        "x_axis = np.arange(x_sample.shape[0] + 4 * 7)\n",
        "\n",
        "# Create the plot\n",
        "plt.figure(figsize=(15, 6))\n",
        "\n",
        "# Plot the input sequence from x_test (scaled)\n",
        "sns.lineplot(x=x_axis[:x_sample.shape[0]], y=x_sample[:], label=\"x_test\", color='blue')\n",
        "\n",
        "# Plot the predicted values for the next 7 points, connected to the original sequence\n",
        "sns.lineplot(x=x_axis[x_sample.shape[0]-1:], y=all_values[x_sample.shape[0]-1:], label=\"y_test (Predicted)\", color='red', marker='o')"
      ],
      "metadata": {
        "colab": {
          "base_uri": "https://localhost:8080/",
          "height": 582
        },
        "id": "pLoJH5lgGN7V",
        "outputId": "27103c35-4361-4d44-e592-d5ae293c2ee8"
      },
      "execution_count": null,
      "outputs": [
        {
          "output_type": "stream",
          "name": "stdout",
          "text": [
            "\u001b[1m1/1\u001b[0m \u001b[32m━━━━━━━━━━━━━━━━━━━━\u001b[0m\u001b[37m\u001b[0m \u001b[1m0s\u001b[0m 68ms/step\n",
            "\u001b[1m1/1\u001b[0m \u001b[32m━━━━━━━━━━━━━━━━━━━━\u001b[0m\u001b[37m\u001b[0m \u001b[1m0s\u001b[0m 62ms/step\n",
            "\u001b[1m1/1\u001b[0m \u001b[32m━━━━━━━━━━━━━━━━━━━━\u001b[0m\u001b[37m\u001b[0m \u001b[1m0s\u001b[0m 67ms/step\n",
            "\u001b[1m1/1\u001b[0m \u001b[32m━━━━━━━━━━━━━━━━━━━━\u001b[0m\u001b[37m\u001b[0m \u001b[1m0s\u001b[0m 84ms/step\n",
            "(113,) (28,)\n"
          ]
        },
        {
          "output_type": "execute_result",
          "data": {
            "text/plain": [
              "<Axes: >"
            ]
          },
          "metadata": {},
          "execution_count": 23
        },
        {
          "output_type": "display_data",
          "data": {
            "text/plain": [
              "<Figure size 1500x600 with 1 Axes>"
            ],
            "image/png": "[encoded data removed]"
          },
          "metadata": {}
        }
      ]
    },
    {
      "cell_type": "code",
      "source": [
        "import numpy as np\n",
        "import matplotlib.pyplot as plt\n",
        "import seaborn as sns\n",
        "from sklearn.preprocessing import MinMaxScaler\n",
        "import random\n",
        "\n",
        "# Assuming x_test and y_test are numpy arrays\n",
        "# Get a sample from x_test and y_test for prediction\n",
        "sample_index = random.randrange(0, x_test.shape[0])  # Randomly select an index\n",
        "x_sample = x_test[sample_index, :, np.newaxis]  # Select the test sequence (input for the model)\n",
        "y_actual = y_test[sample_index, :]  # Ground truth corresponding to the selected sequence\n",
        "\n",
        "print(x_sample.shape)\n",
        "# Scale the data using MinMaxScaler\n",
        "minmax = MinMaxScaler()\n",
        "\n",
        "# Fit the scaler and transform the x_sample\n",
        "minmax.fit(x_sample)\n",
        "x_sample_scaled = minmax.transform(x_sample)\n",
        "\n",
        "# Bootstrap predictions for the next 7 time steps\n",
        "num_bootstrap_steps = 4\n",
        "y_pred_scaled_list = []\n",
        "\n",
        "# Iteratively predict the next point and append to x_sample_scaled\n",
        "current_input = x_sample_scaled.copy()\n",
        "for step in range(num_bootstrap_steps):\n",
        "    # Predict using the model on scaled current input\n",
        "    y_pred_scaled = model.predict(current_input[np.newaxis, :, :])  # Add batch dimension for prediction\n",
        "\n",
        "    # Append the predicted value to the list\n",
        "    y_pred_scaled_list.append(y_pred_scaled[0, :])  # Prediction is 7 points\n",
        "\n",
        "    # Shift the input sequence by removing the oldest value and appending the new predicted value\n",
        "    current_input = np.append(current_input[7:], y_pred_scaled.reshape(7,1), axis=0)\n",
        "\n",
        "# Inverse transform the predictions to get them back to original scale\n",
        "y_pred_list = minmax.inverse_transform(np.array(y_pred_scaled_list).reshape(-1, 1)).flatten()\n",
        "\n",
        "# Create a range for the x-axis (time steps) including the bootstrapped future steps\n",
        "x_axis = np.arange(x_sample.shape[0] + num_bootstrap_steps * 7)\n",
        "\n",
        "# Concatenate the original and predicted values for a smooth connection\n",
        "all_values = np.concatenate((x_sample[:, 0], y_pred_list))\n",
        "real_values = np.concatenate((x_sample[:, 0], y_actual))\n",
        "\n",
        "# Create the plot\n",
        "plt.figure(figsize=(15, 6))\n",
        "# Plot the input sequence from x_test (scaled)\n",
        "sns.lineplot(x=x_axis[:x_sample.shape[0]], y=x_sample[:, 0], label=\"x_test\", color='blue')\n",
        "\n",
        "# Plot the predicted values for the next 7 points, connected to the original sequence\n",
        "sns.lineplot(x=x_axis[x_sample.shape[0]-1:], y=all_values[x_sample.shape[0]-1:], label=\"y_test (Predicted)\", color='red', marker='o')\n",
        "\n",
        "\n",
        "#plot the real y\n",
        "sns.lineplot(x=x_axis[x_sample.shape[0]-1:real_values.shape[0]], y=real_values[x_sample.shape[0]-1:], label=\"y real\", color='green', marker='o')\n",
        "\n",
        "\n",
        "plt.xlabel(\"Time Steps\")\n",
        "plt.ylabel(\"Value\")\n",
        "plt.title(f\"Model Predictions (Next month) vs Actual for Sample Index: {sample_index}\")\n",
        "plt.legend()\n",
        "plt.show()\n"
      ],
      "metadata": {
        "colab": {
          "base_uri": "https://localhost:8080/",
          "height": 600
        },
        "id": "g69ERow8OBNw",
        "outputId": "48551d9d-a769-426c-fe3b-3403e3263f85"
      },
      "execution_count": null,
      "outputs": [
        {
          "output_type": "stream",
          "name": "stdout",
          "text": [
            "(113, 1)\n",
            "\u001b[1m1/1\u001b[0m \u001b[32m━━━━━━━━━━━━━━━━━━━━\u001b[0m\u001b[37m\u001b[0m \u001b[1m0s\u001b[0m 123ms/step\n",
            "\u001b[1m1/1\u001b[0m \u001b[32m━━━━━━━━━━━━━━━━━━━━\u001b[0m\u001b[37m\u001b[0m \u001b[1m0s\u001b[0m 112ms/step\n",
            "\u001b[1m1/1\u001b[0m \u001b[32m━━━━━━━━━━━━━━━━━━━━\u001b[0m\u001b[37m\u001b[0m \u001b[1m0s\u001b[0m 106ms/step\n",
            "\u001b[1m1/1\u001b[0m \u001b[32m━━━━━━━━━━━━━━━━━━━━\u001b[0m\u001b[37m\u001b[0m \u001b[1m0s\u001b[0m 185ms/step\n"
          ]
        },
        {
          "output_type": "display_data",
          "data": {
            "text/plain": [
              "<Figure size 1500x600 with 1 Axes>"
            ],
            "image/png": "[encoded data removed]"
          },
          "metadata": {}
        }
      ]
    },
    {
      "cell_type": "code",
      "source": [
        "#plotting results\n",
        "\n",
        "best_epoch = np.argmin(history['val_loss'])\n",
        "plt.figure(figsize=(17,4))\n",
        "plt.plot(history['loss'], label='Training loss', alpha=.8, color='#ff7f0e')\n",
        "plt.plot(history['val_loss'], label='Validation loss', alpha=.9, color='#5a9aa5')\n",
        "plt.axvline(x=best_epoch, label='Best epoch', alpha=.3, ls='--', color='#5a9aa5')\n",
        "plt.title('Mean Squared Error')\n",
        "plt.legend()\n",
        "plt.grid(alpha=.3)\n",
        "plt.show()\n"
      ],
      "metadata": {
        "id": "bouISgY27GNd",
        "colab": {
          "base_uri": "https://localhost:8080/",
          "height": 294
        },
        "outputId": "a42bb6b9-caac-4369-eb41-62168a9f55d4"
      },
      "execution_count": null,
      "outputs": [
        {
          "output_type": "display_data",
          "data": {
            "text/plain": [
              "<Figure size 1700x400 with 1 Axes>"
            ],
            "image/png": "[encoded data removed]"
          },
          "metadata": {}
        }
      ]
    },
    {
      "cell_type": "code",
      "source": [
        "from tensorflow.python.keras.models import load_model\n",
        "new_model = tf.keras.models.load_model('model.keras')"
      ],
      "metadata": {
        "id": "QR7EWwadUSah"
      },
      "execution_count": null,
      "outputs": []
    },
    {
      "cell_type": "code",
      "source": [
        "import pickle\n",
        "filename='model.pkl'\n",
        "\n",
        "pickle.dump(new_model, open(filename, 'wb'))"
      ],
      "metadata": {
        "id": "19EBy3jNZD52"
      },
      "execution_count": null,
      "outputs": []
    },
    {
      "cell_type": "code",
      "source": [
        "!pip install -U keras"
      ],
      "metadata": {
        "colab": {
          "base_uri": "https://localhost:8080/",
          "height": 512
        },
        "id": "C8MyjZsZYyb3",
        "outputId": "9072a27e-f18a-449a-af97-38429fc05053"
      },
      "execution_count": null,
      "outputs": [
        {
          "output_type": "stream",
          "name": "stdout",
          "text": [
            "Requirement already satisfied: keras in /usr/local/lib/python3.10/dist-packages (3.4.1)\n",
            "Collecting keras\n",
            "  Downloading keras-3.6.0-py3-none-any.whl.metadata (5.8 kB)\n",
            "Requirement already satisfied: absl-py in /usr/local/lib/python3.10/dist-packages (from keras) (1.4.0)\n",
            "Requirement already satisfied: numpy in /usr/local/lib/python3.10/dist-packages (from keras) (1.26.4)\n",
            "Requirement already satisfied: rich in /usr/local/lib/python3.10/dist-packages (from keras) (13.9.3)\n",
            "Requirement already satisfied: namex in /usr/local/lib/python3.10/dist-packages (from keras) (0.0.8)\n",
            "Requirement already satisfied: h5py in /usr/local/lib/python3.10/dist-packages (from keras) (3.12.1)\n",
            "Requirement already satisfied: optree in /usr/local/lib/python3.10/dist-packages (from keras) (0.13.0)\n",
            "Requirement already satisfied: ml-dtypes in /usr/local/lib/python3.10/dist-packages (from keras) (0.4.1)\n",
            "Requirement already satisfied: packaging in /usr/local/lib/python3.10/dist-packages (from keras) (24.1)\n",
            "Requirement already satisfied: typing-extensions>=4.5.0 in /usr/local/lib/python3.10/dist-packages (from optree->keras) (4.12.2)\n",
            "Requirement already satisfied: markdown-it-py>=2.2.0 in /usr/local/lib/python3.10/dist-packages (from rich->keras) (3.0.0)\n",
            "Requirement already satisfied: pygments<3.0.0,>=2.13.0 in /usr/local/lib/python3.10/dist-packages (from rich->keras) (2.18.0)\n",
            "Requirement already satisfied: mdurl~=0.1 in /usr/local/lib/python3.10/dist-packages (from markdown-it-py>=2.2.0->rich->keras) (0.1.2)\n",
            "Downloading keras-3.6.0-py3-none-any.whl (1.2 MB)\n",
            "\u001b[2K   \u001b[90m━━━━━━━━━━━━━━━━━━━━━━━━━━━━━━━━━━━━━━━━\u001b[0m \u001b[32m1.2/1.2 MB\u001b[0m \u001b[31m45.2 MB/s\u001b[0m eta \u001b[36m0:00:00\u001b[0m\n",
            "\u001b[?25hInstalling collected packages: keras\n",
            "  Attempting uninstall: keras\n",
            "    Found existing installation: keras 3.4.1\n",
            "    Uninstalling keras-3.4.1:\n",
            "      Successfully uninstalled keras-3.4.1\n",
            "Successfully installed keras-3.6.0\n"
          ]
        },
        {
          "output_type": "display_data",
          "data": {
            "application/vnd.colab-display-data+json": {
              "pip_warning": {
                "packages": [
                  "keras"
                ]
              },
              "id": "36bdd4fbe4274f2da81bd92e4e6b163d"
            }
          },
          "metadata": {}
        }
      ]
    },
    {
      "cell_type": "code",
      "source": [
        "'''from tqdm.auto import tqdm\n",
        "\n",
        "# Train model\n",
        "#####################\n",
        "num_epochs = 100\n",
        "hist = np.zeros(num_epochs)\n",
        "\n",
        "# Number of steps to unroll\n",
        "seq_dim = seq_length - telescope\n",
        "\n",
        "for t in tqdm(range(num_epochs), desc=\"Training Epochs\"):\n",
        "    # Initialise hidden state\n",
        "    # Don't do this if you want your LSTM to be stateful\n",
        "    #model.hidden = model.init_hidden()\n",
        "\n",
        "    # Forward pass\n",
        "    y_train_pred = model(x_train)\n",
        "\n",
        "    loss = loss_fn(y_train_pred, y_train)\n",
        "    if t % 10 == 0 and t !=0:\n",
        "        print(\"Epoch \", t, \"MSE: \", loss.item())\n",
        "    hist[t] = loss.item()\n",
        "\n",
        "    # Zero out gradient, else they will accumulate between epochs\n",
        "    optimiser.zero_grad()\n",
        "\n",
        "    # Backward pass\n",
        "    loss.backward()\n",
        "\n",
        "    # Update parameters\n",
        "    optimiser.step()"
      ],
      "metadata": {
        "colab": {
          "base_uri": "https://localhost:8080/",
          "height": 49,
          "referenced_widgets": [
            "1598ccda1e784a4d99c5ef7a0686eb41",
            "92e4db4dbc3b42bfa57759d5da21f22d",
            "10c8ee832af44a538457b6b5656c713a",
            "d0c52a84d2ab4a8db5f95a9aaa0eb336",
            "5f3a669e80ae410abdc36ae71bdb3e66",
            "11bc41e606914d4ab75ac37d7e63836d",
            "0aaaf927d84448c98f2cf4e286b45f0f",
            "5a507a0c0a3a46d4b3a26202ba9a0513",
            "15111f6c7c754dbea6b2686490c49cda",
            "09c9647e14f04f4d9a90bddb359f5e35",
            "fbcf8566f1c34a59a7438bad414616c8"
          ]
        },
        "id": "xr7beJ_A35OX",
        "outputId": "be4796ea-46e9-4207-b1cc-fd6b3e1b7d59"
      },
      "execution_count": null,
      "outputs": [
        {
          "output_type": "display_data",
          "data": {
            "text/plain": [
              "Training Epochs:   0%|          | 0/100 [00:00<?, ?it/s]"
            ],
            "application/vnd.jupyter.widget-view+json": {
              "version_major": 2,
              "version_minor": 0,
              "model_id": "1598ccda1e784a4d99c5ef7a0686eb41"
            }
          },
          "metadata": {}
        }
      ]
    },
    {
      "cell_type": "code",
      "execution_count": null,
      "metadata": {
        "colab": {
          "base_uri": "https://localhost:8080/"
        },
        "id": "4PEfqBI6oEnV",
        "outputId": "95d9e803-b6c7-4966-f8b6-8199673ec93c"
      },
      "outputs": [
        {
          "output_type": "stream",
          "name": "stdout",
          "text": [
            "cuda\n"
          ]
        }
      ],
      "source": [
        "'''#check for GPU support\n",
        "device = torch.device('cuda' if torch.cuda.is_available() else 'cpu')\n",
        "print(device)"
      ]
    },
    {
      "cell_type": "code",
      "execution_count": null,
      "metadata": {
        "id": "qFhGdYcboEnV",
        "colab": {
          "base_uri": "https://localhost:8080/",
          "height": 140
        },
        "outputId": "991583f1-3c32-498c-b2f2-25740f389bf3"
      },
      "outputs": [
        {
          "output_type": "execute_result",
          "data": {
            "text/plain": [
              "\"\\ninput_size = x_train.shape[1:]\\noutput_size = y_train.shape[1]\\n\\n\\n\\nprint(input_size, output_size)\\n\\n\\nnum_layers = 3  # Increased number of layers\\nhidden_size = 128  # Increased number of hidden units\\ndropout = 0.2\\n\\n\\nmodel = LSTMModel(input_size, hidden_size, num_layers, output_size, dropout).to(device)\\nloss_fn = nn.MSELoss(reduction='mean')\\noptimizer = optim.Adam(model.parameters(), lr=1e-3)\\n\\nbatch_size = 32\\nnum_epochs = 200\\n\\n\\ntrain_dataset = TensorDataset(x_train, y_train)\\ntrain_loader = DataLoader(train_dataset, batch_size=batch_size, shuffle=True)\\nval_dataset = TensorDataset(x_val, y_val)\\nval_loader = DataLoader(val_dataset, batch_size=batch_size, shuffle=False)\\n\""
            ],
            "application/vnd.google.colaboratory.intrinsic+json": {
              "type": "string"
            }
          },
          "metadata": {},
          "execution_count": 16
        }
      ],
      "source": [
        "'''def buildModel(input_shape, output_shape):\n",
        "    model = LSTM(input_shape, output_shape).to(device)\n",
        "\n",
        "    loss_fn = nn.MSELoss(reduction='mean')\n",
        "\n",
        "    optimizer = torch.optim.Adam(model.parameters(), lr=0.01)\n",
        "\n",
        "    return model, optimizer, loss_fn\n",
        "\n",
        "\n",
        "input_size = x_train.shape[1:]\n",
        "output_size = y_train.shape[1]\n",
        "\n",
        "\n",
        "\n",
        "print(input_size, output_size)\n",
        "\n",
        "\n",
        "num_layers = 3  # Increased number of layers\n",
        "hidden_size = 128  # Increased number of hidden units\n",
        "dropout = 0.2\n",
        "\n",
        "\n",
        "model = LSTMModel(input_size, hidden_size, num_layers, output_size, dropout).to(device)\n",
        "loss_fn = nn.MSELoss(reduction='mean')\n",
        "optimizer = optim.Adam(model.parameters(), lr=1e-3)\n",
        "\n",
        "batch_size = 32\n",
        "num_epochs = 200\n",
        "\n",
        "\n",
        "train_dataset = TensorDataset(x_train, y_train)\n",
        "train_loader = DataLoader(train_dataset, batch_size=batch_size, shuffle=True)\n",
        "val_dataset = TensorDataset(x_val, y_val)\n",
        "val_loader = DataLoader(val_dataset, batch_size=batch_size, shuffle=False)\n",
        "'''"
      ]
    },
    {
      "cell_type": "code",
      "execution_count": null,
      "metadata": {
        "id": "utkAE0FCuX8n"
      },
      "outputs": [],
      "source": [
        "'''from tqdm.auto import tqdm\n",
        "np.set_printoptions(threshold=np.inf)\n",
        "# Training function\n",
        "def train_model(model, train_loader, val_loader, criterion, optimizer, num_epochs, device):\n",
        "    # Removed early stopping and scheduler\n",
        "    for epoch in range(num_epochs):\n",
        "        model.train()\n",
        "        running_loss = 0.0\n",
        "        with open('training_log.txt', 'w') as log_file:\n",
        "            train_bar = tqdm(train_loader, desc=f\"Epoch {epoch+1}/{num_epochs} [Training]\", leave=True)\n",
        "            for inputs, labels in train_loader:\n",
        "                inputs, labels = inputs.to(device), labels.to(device)\n",
        "\n",
        "                optimizer.zero_grad()\n",
        "\n",
        "                # Forward pass\n",
        "                outputs = model(inputs)\n",
        "                labels = labels.reshape(outputs.shape)\n",
        "                loss = criterion(outputs, labels)\n",
        "\n",
        "                # Backward pass and optimization\n",
        "                loss.backward()\n",
        "                optimizer.step()\n",
        "\n",
        "                running_loss += loss.item()\n",
        "\n",
        "                train_bar.set_postfix({'loss': loss.item()})\n",
        "                train_bar.update()\n",
        "        # Validation step\n",
        "        model.eval()\n",
        "        val_loss = 0.0\n",
        "        with torch.no_grad():\n",
        "            for inputs, labels in val_loader:\n",
        "                inputs, labels = inputs.to(device), labels.to(device)\n",
        "\n",
        "                outputs = model(inputs)\n",
        "                labels = labels.reshape(outputs.shape)\n",
        "                loss = criterion(outputs, labels)\n",
        "                val_loss += loss.item()\n",
        "\n",
        "        val_loss /= len(val_loader)\n",
        "        print(f'Epoch {epoch+1}/{num_epochs}, Train Loss: {running_loss/len(train_loader):.4f}, Val Loss: {val_loss:.4f}')\n",
        "\n",
        "    return model\n"
      ]
    },
    {
      "cell_type": "code",
      "execution_count": null,
      "metadata": {
        "colab": {
          "base_uri": "https://localhost:8080/",
          "height": 405,
          "referenced_widgets": [
            "44ee88b50a0d42e0bfb443c834604980",
            "6d8876c623e247e38805bb4b2395459d",
            "0d1648296cc044928b5622d11eb5309d",
            "5f9220aa4e124f219211bb4af960c528",
            "e9b8425579d648589f39eb968ef79f28",
            "6ecd591766404333ab7ead8d542f95c4",
            "2f1e0021d1dd4278978d7ff01fd87ae2",
            "b06cd36793ee4e60841680e36590f6f2",
            "d59ec61143b64e4ea409fd2c6b0cfe85",
            "7969a3ab3c914343972c506425099ed6",
            "25179c8ad1bb485898083fb1caeafbd7"
          ]
        },
        "id": "jh95NFkluerr",
        "outputId": "a96e5016-ac6d-487c-c32b-4193c32eaf5d"
      },
      "outputs": [
        {
          "output_type": "stream",
          "name": "stdout",
          "text": [
            "(353, 1) 7\n"
          ]
        },
        {
          "output_type": "display_data",
          "data": {
            "text/plain": [
              "Epoch 1/100 [Training]:   0%|          | 0/2234 [00:00<?, ?it/s]"
            ],
            "application/vnd.jupyter.widget-view+json": {
              "version_major": 2,
              "version_minor": 0,
              "model_id": "44ee88b50a0d42e0bfb443c834604980"
            }
          },
          "metadata": {}
        },
        {
          "output_type": "error",
          "ename": "KeyboardInterrupt",
          "evalue": "",
          "traceback": [
            "\u001b[0;31m---------------------------------------------------------------------------\u001b[0m",
            "\u001b[0;31mKeyboardInterrupt\u001b[0m                         Traceback (most recent call last)",
            "\u001b[0;32m<ipython-input-19-3f2e1604f40c>\u001b[0m in \u001b[0;36m<cell line: 34>\u001b[0;34m()\u001b[0m\n\u001b[1;32m     32\u001b[0m \u001b[0;34m\u001b[0m\u001b[0m\n\u001b[1;32m     33\u001b[0m \u001b[0;31m# Train the model\u001b[0m\u001b[0;34m\u001b[0m\u001b[0;34m\u001b[0m\u001b[0m\n\u001b[0;32m---> 34\u001b[0;31m \u001b[0mtrained_model\u001b[0m \u001b[0;34m=\u001b[0m \u001b[0mtrain_model\u001b[0m\u001b[0;34m(\u001b[0m\u001b[0mmodel\u001b[0m\u001b[0;34m,\u001b[0m \u001b[0mtrain_loader\u001b[0m\u001b[0;34m,\u001b[0m \u001b[0mval_loader\u001b[0m\u001b[0;34m,\u001b[0m \u001b[0mloss_fn\u001b[0m\u001b[0;34m,\u001b[0m \u001b[0moptimizer\u001b[0m\u001b[0;34m,\u001b[0m \u001b[0mnum_epochs\u001b[0m\u001b[0;34m,\u001b[0m \u001b[0mdevice\u001b[0m\u001b[0;34m)\u001b[0m\u001b[0;34m\u001b[0m\u001b[0;34m\u001b[0m\u001b[0m\n\u001b[0m",
            "\u001b[0;32m<ipython-input-17-863b3c2b4f84>\u001b[0m in \u001b[0;36mtrain_model\u001b[0;34m(model, train_loader, val_loader, criterion, optimizer, num_epochs, device)\u001b[0m\n\u001b[1;32m     20\u001b[0m \u001b[0;34m\u001b[0m\u001b[0m\n\u001b[1;32m     21\u001b[0m                 \u001b[0;31m# Backward pass and optimization\u001b[0m\u001b[0;34m\u001b[0m\u001b[0;34m\u001b[0m\u001b[0m\n\u001b[0;32m---> 22\u001b[0;31m                 \u001b[0mloss\u001b[0m\u001b[0;34m.\u001b[0m\u001b[0mbackward\u001b[0m\u001b[0;34m(\u001b[0m\u001b[0;34m)\u001b[0m\u001b[0;34m\u001b[0m\u001b[0;34m\u001b[0m\u001b[0m\n\u001b[0m\u001b[1;32m     23\u001b[0m                 \u001b[0moptimizer\u001b[0m\u001b[0;34m.\u001b[0m\u001b[0mstep\u001b[0m\u001b[0;34m(\u001b[0m\u001b[0;34m)\u001b[0m\u001b[0;34m\u001b[0m\u001b[0;34m\u001b[0m\u001b[0m\n\u001b[1;32m     24\u001b[0m \u001b[0;34m\u001b[0m\u001b[0m\n",
            "\u001b[0;32m/usr/local/lib/python3.10/dist-packages/torch/_tensor.py\u001b[0m in \u001b[0;36mbackward\u001b[0;34m(self, gradient, retain_graph, create_graph, inputs)\u001b[0m\n\u001b[1;32m    519\u001b[0m                 \u001b[0minputs\u001b[0m\u001b[0;34m=\u001b[0m\u001b[0minputs\u001b[0m\u001b[0;34m,\u001b[0m\u001b[0;34m\u001b[0m\u001b[0;34m\u001b[0m\u001b[0m\n\u001b[1;32m    520\u001b[0m             )\n\u001b[0;32m--> 521\u001b[0;31m         torch.autograd.backward(\n\u001b[0m\u001b[1;32m    522\u001b[0m             \u001b[0mself\u001b[0m\u001b[0;34m,\u001b[0m \u001b[0mgradient\u001b[0m\u001b[0;34m,\u001b[0m \u001b[0mretain_graph\u001b[0m\u001b[0;34m,\u001b[0m \u001b[0mcreate_graph\u001b[0m\u001b[0;34m,\u001b[0m \u001b[0minputs\u001b[0m\u001b[0;34m=\u001b[0m\u001b[0minputs\u001b[0m\u001b[0;34m\u001b[0m\u001b[0;34m\u001b[0m\u001b[0m\n\u001b[1;32m    523\u001b[0m         )\n",
            "\u001b[0;32m/usr/local/lib/python3.10/dist-packages/torch/autograd/__init__.py\u001b[0m in \u001b[0;36mbackward\u001b[0;34m(tensors, grad_tensors, retain_graph, create_graph, grad_variables, inputs)\u001b[0m\n\u001b[1;32m    287\u001b[0m     \u001b[0;31m# some Python versions print out the first line of a multi-line function\u001b[0m\u001b[0;34m\u001b[0m\u001b[0;34m\u001b[0m\u001b[0m\n\u001b[1;32m    288\u001b[0m     \u001b[0;31m# calls in the traceback and some print out the last line\u001b[0m\u001b[0;34m\u001b[0m\u001b[0;34m\u001b[0m\u001b[0m\n\u001b[0;32m--> 289\u001b[0;31m     _engine_run_backward(\n\u001b[0m\u001b[1;32m    290\u001b[0m         \u001b[0mtensors\u001b[0m\u001b[0;34m,\u001b[0m\u001b[0;34m\u001b[0m\u001b[0;34m\u001b[0m\u001b[0m\n\u001b[1;32m    291\u001b[0m         \u001b[0mgrad_tensors_\u001b[0m\u001b[0;34m,\u001b[0m\u001b[0;34m\u001b[0m\u001b[0;34m\u001b[0m\u001b[0m\n",
            "\u001b[0;32m/usr/local/lib/python3.10/dist-packages/torch/autograd/graph.py\u001b[0m in \u001b[0;36m_engine_run_backward\u001b[0;34m(t_outputs, *args, **kwargs)\u001b[0m\n\u001b[1;32m    767\u001b[0m         \u001b[0munregister_hooks\u001b[0m \u001b[0;34m=\u001b[0m \u001b[0m_register_logging_hooks_on_whole_graph\u001b[0m\u001b[0;34m(\u001b[0m\u001b[0mt_outputs\u001b[0m\u001b[0;34m)\u001b[0m\u001b[0;34m\u001b[0m\u001b[0;34m\u001b[0m\u001b[0m\n\u001b[1;32m    768\u001b[0m     \u001b[0;32mtry\u001b[0m\u001b[0;34m:\u001b[0m\u001b[0;34m\u001b[0m\u001b[0;34m\u001b[0m\u001b[0m\n\u001b[0;32m--> 769\u001b[0;31m         return Variable._execution_engine.run_backward(  # Calls into the C++ engine to run the backward pass\n\u001b[0m\u001b[1;32m    770\u001b[0m             \u001b[0mt_outputs\u001b[0m\u001b[0;34m,\u001b[0m \u001b[0;34m*\u001b[0m\u001b[0margs\u001b[0m\u001b[0;34m,\u001b[0m \u001b[0;34m**\u001b[0m\u001b[0mkwargs\u001b[0m\u001b[0;34m\u001b[0m\u001b[0;34m\u001b[0m\u001b[0m\n\u001b[1;32m    771\u001b[0m         )  # Calls into the C++ engine to run the backward pass\n",
            "\u001b[0;31mKeyboardInterrupt\u001b[0m: "
          ]
        }
      ],
      "source": [
        "'''from torch.utils.data import DataLoader, TensorDataset\n",
        "input_size = x_train.shape[1:]\n",
        "output_size = y_train.shape[1]\n",
        "\n",
        "print(input_size, output_size)\n",
        "batch_size = 32\n",
        "num_epochs = 100\n",
        "\n",
        "\n",
        "# Assuming x_train, y_train are numpy arrays\n",
        "x_train_tensor = torch.tensor(x_train, dtype=torch.float32)\n",
        "y_train_tensor = torch.tensor(y_train, dtype=torch.float32)\n",
        "\n",
        "# Create TensorDataset and DataLoader for training\n",
        "train_dataset = TensorDataset(x_train_tensor, y_train_tensor)\n",
        "train_loader = DataLoader(train_dataset, batch_size=batch_size, shuffle=True)\n",
        "\n",
        "# Assuming you have validation data x_val and y_val\n",
        "x_val_tensor = torch.tensor(x_val, dtype=torch.float32)\n",
        "y_val_tensor = torch.tensor(y_val, dtype=torch.float32)\n",
        "\n",
        "# Create TensorDataset and DataLoader for validation\n",
        "val_dataset = TensorDataset(x_val_tensor, y_val_tensor)\n",
        "val_loader = DataLoader(val_dataset, batch_size=batch_size, shuffle=True)\n",
        "\n",
        "# Build the model, optimizer, and loss function\n",
        "model, optimizer, loss_fn = buildModel(input_size, output_size)\n",
        "\n",
        "# Move model to device (GPU or CPU)\n",
        "device = torch.device('cuda' if torch.cuda.is_available() else 'cpu')\n",
        "model.to(device)\n",
        "\n",
        "# Train the model\n",
        "trained_model = train_model(model, train_loader, val_loader, loss_fn, optimizer, num_epochs, device)\n"
      ]
    },
    {
      "cell_type": "code",
      "source": [
        "'''import numpy as np\n",
        "import matplotlib.pyplot as plt\n",
        "import seaborn as sns\n",
        "\n",
        "# Assuming x_train and y_train are numpy arrays and have compatible dimensions\n",
        "# Sampling 100 sequences\n",
        "num_sequences = 100\n",
        "sample_indices = np.random.choice(x_train.shape[0], num_sequences, replace=False)\n",
        "\n",
        "# Plot the first sampled sequence (from the 100)\n",
        "first_sample_index = sample_indices[0]\n",
        "first_x_sequence = x_train[first_sample_index, :, 0]  # Select the first feature (if multidimensional)\n",
        "first_y_sequence = y_train[first_sample_index, :, 0]  # Select the first feature (if multidimensional)\n",
        "\n",
        "# Create a range for the x-axis (time steps)\n",
        "x_axis = np.arange(len(first_x_sequence))\n",
        "\n",
        "# Create the plot\n",
        "plt.figure(figsize=(15, 6))\n",
        "ax = sns.lineplot(x=x_axis, y=first_x_sequence, label=\"x_train\", color='blue')\n",
        "\n",
        "# Highlight the y_train sequence\n",
        "ax = sns.lineplot(x=[len(first_x_sequence)], y=first_y_sequence, label=\"y_train\", color='red', marker='o')\n",
        "\n",
        "plt.xlabel(\"Time Steps\")\n",
        "plt.ylabel(\"Value\")\n",
        "plt.title(\"Sampled Sequence of x_train and y_train (Sample Index: {})\".format(first_sample_index))\n",
        "plt.legend()\n",
        "plt.show()\n"
      ],
      "metadata": {
        "colab": {
          "base_uri": "https://localhost:8080/",
          "height": 476
        },
        "id": "SjIivHlGu4tX",
        "outputId": "905e031f-294f-4677-ccc7-17c1d6f5a0a5"
      },
      "execution_count": null,
      "outputs": [
        {
          "output_type": "display_data",
          "data": {
            "text/plain": [
              "<Figure size 1500x600 with 1 Axes>"
            ],
            "image/png": "[encoded data removed]"
          },
          "metadata": {}
        }
      ]
    }
  ],
  "metadata": {
    "colab": {
      "provenance": []
    },
    "kernelspec": {
      "display_name": "Python 3",
      "name": "python3"
    },
    "language_info": {
      "codemirror_mode": {
        "name": "ipython",
        "version": 3
      },
      "file_extension": ".py",
      "mimetype": "text/x-python",
      "name": "python",
      "nbconvert_exporter": "python",
      "pygments_lexer": "ipython3",
      "version": "3.9.20"
    },
    "widgets": {
      "application/vnd.jupyter.widget-state+json": {
        "1598ccda1e784a4d99c5ef7a0686eb41": {
          "model_module": "@jupyter-widgets/controls",
          "model_name": "HBoxModel",
          "model_module_version": "1.5.0",
          "state": {
            "_dom_classes": [],
            "_model_module": "@jupyter-widgets/controls",
            "_model_module_version": "1.5.0",
            "_model_name": "HBoxModel",
            "_view_count": null,
            "_view_module": "@jupyter-widgets/controls",
            "_view_module_version": "1.5.0",
            "_view_name": "HBoxView",
            "box_style": "",
            "children": [
              "IPY_MODEL_92e4db4dbc3b42bfa57759d5da21f22d",
              "IPY_MODEL_10c8ee832af44a538457b6b5656c713a",
              "IPY_MODEL_d0c52a84d2ab4a8db5f95a9aaa0eb336"
            ],
            "layout": "IPY_MODEL_5f3a669e80ae410abdc36ae71bdb3e66"
          }
        },
        "92e4db4dbc3b42bfa57759d5da21f22d": {
          "model_module": "@jupyter-widgets/controls",
          "model_name": "HTMLModel",
          "model_module_version": "1.5.0",
          "state": {
            "_dom_classes": [],
            "_model_module": "@jupyter-widgets/controls",
            "_model_module_version": "1.5.0",
            "_model_name": "HTMLModel",
            "_view_count": null,
            "_view_module": "@jupyter-widgets/controls",
            "_view_module_version": "1.5.0",
            "_view_name": "HTMLView",
            "description": "",
            "description_tooltip": null,
            "layout": "IPY_MODEL_11bc41e606914d4ab75ac37d7e63836d",
            "placeholder": "​",
            "style": "IPY_MODEL_0aaaf927d84448c98f2cf4e286b45f0f",
            "value": "Training Epochs:   0%"
          }
        },
        "10c8ee832af44a538457b6b5656c713a": {
          "model_module": "@jupyter-widgets/controls",
          "model_name": "FloatProgressModel",
          "model_module_version": "1.5.0",
          "state": {
            "_dom_classes": [],
            "_model_module": "@jupyter-widgets/controls",
            "_model_module_version": "1.5.0",
            "_model_name": "FloatProgressModel",
            "_view_count": null,
            "_view_module": "@jupyter-widgets/controls",
            "_view_module_version": "1.5.0",
            "_view_name": "ProgressView",
            "bar_style": "",
            "description": "",
            "description_tooltip": null,
            "layout": "IPY_MODEL_5a507a0c0a3a46d4b3a26202ba9a0513",
            "max": 100,
            "min": 0,
            "orientation": "horizontal",
            "style": "IPY_MODEL_15111f6c7c754dbea6b2686490c49cda",
            "value": 0
          }
        },
        "d0c52a84d2ab4a8db5f95a9aaa0eb336": {
          "model_module": "@jupyter-widgets/controls",
          "model_name": "HTMLModel",
          "model_module_version": "1.5.0",
          "state": {
            "_dom_classes": [],
            "_model_module": "@jupyter-widgets/controls",
            "_model_module_version": "1.5.0",
            "_model_name": "HTMLModel",
            "_view_count": null,
            "_view_module": "@jupyter-widgets/controls",
            "_view_module_version": "1.5.0",
            "_view_name": "HTMLView",
            "description": "",
            "description_tooltip": null,
            "layout": "IPY_MODEL_09c9647e14f04f4d9a90bddb359f5e35",
            "placeholder": "​",
            "style": "IPY_MODEL_fbcf8566f1c34a59a7438bad414616c8",
            "value": " 0/100 [00:00&lt;?, ?it/s]"
          }
        },
        "5f3a669e80ae410abdc36ae71bdb3e66": {
          "model_module": "@jupyter-widgets/base",
          "model_name": "LayoutModel",
          "model_module_version": "1.2.0",
          "state": {
            "_model_module": "@jupyter-widgets/base",
            "_model_module_version": "1.2.0",
            "_model_name": "LayoutModel",
            "_view_count": null,
            "_view_module": "@jupyter-widgets/base",
            "_view_module_version": "1.2.0",
            "_view_name": "LayoutView",
            "align_content": null,
            "align_items": null,
            "align_self": null,
            "border": null,
            "bottom": null,
            "display": null,
            "flex": null,
            "flex_flow": null,
            "grid_area": null,
            "grid_auto_columns": null,
            "grid_auto_flow": null,
            "grid_auto_rows": null,
            "grid_column": null,
            "grid_gap": null,
            "grid_row": null,
            "grid_template_areas": null,
            "grid_template_columns": null,
            "grid_template_rows": null,
            "height": null,
            "justify_content": null,
            "justify_items": null,
            "left": null,
            "margin": null,
            "max_height": null,
            "max_width": null,
            "min_height": null,
            "min_width": null,
            "object_fit": null,
            "object_position": null,
            "order": null,
            "overflow": null,
            "overflow_x": null,
            "overflow_y": null,
            "padding": null,
            "right": null,
            "top": null,
            "visibility": null,
            "width": null
          }
        },
        "11bc41e606914d4ab75ac37d7e63836d": {
          "model_module": "@jupyter-widgets/base",
          "model_name": "LayoutModel",
          "model_module_version": "1.2.0",
          "state": {
            "_model_module": "@jupyter-widgets/base",
            "_model_module_version": "1.2.0",
            "_model_name": "LayoutModel",
            "_view_count": null,
            "_view_module": "@jupyter-widgets/base",
            "_view_module_version": "1.2.0",
            "_view_name": "LayoutView",
            "align_content": null,
            "align_items": null,
            "align_self": null,
            "border": null,
            "bottom": null,
            "display": null,
            "flex": null,
            "flex_flow": null,
            "grid_area": null,
            "grid_auto_columns": null,
            "grid_auto_flow": null,
            "grid_auto_rows": null,
            "grid_column": null,
            "grid_gap": null,
            "grid_row": null,
            "grid_template_areas": null,
            "grid_template_columns": null,
            "grid_template_rows": null,
            "height": null,
            "justify_content": null,
            "justify_items": null,
            "left": null,
            "margin": null,
            "max_height": null,
            "max_width": null,
            "min_height": null,
            "min_width": null,
            "object_fit": null,
            "object_position": null,
            "order": null,
            "overflow": null,
            "overflow_x": null,
            "overflow_y": null,
            "padding": null,
            "right": null,
            "top": null,
            "visibility": null,
            "width": null
          }
        },
        "0aaaf927d84448c98f2cf4e286b45f0f": {
          "model_module": "@jupyter-widgets/controls",
          "model_name": "DescriptionStyleModel",
          "model_module_version": "1.5.0",
          "state": {
            "_model_module": "@jupyter-widgets/controls",
            "_model_module_version": "1.5.0",
            "_model_name": "DescriptionStyleModel",
            "_view_count": null,
            "_view_module": "@jupyter-widgets/base",
            "_view_module_version": "1.2.0",
            "_view_name": "StyleView",
            "description_width": ""
          }
        },
        "5a507a0c0a3a46d4b3a26202ba9a0513": {
          "model_module": "@jupyter-widgets/base",
          "model_name": "LayoutModel",
          "model_module_version": "1.2.0",
          "state": {
            "_model_module": "@jupyter-widgets/base",
            "_model_module_version": "1.2.0",
            "_model_name": "LayoutModel",
            "_view_count": null,
            "_view_module": "@jupyter-widgets/base",
            "_view_module_version": "1.2.0",
            "_view_name": "LayoutView",
            "align_content": null,
            "align_items": null,
            "align_self": null,
            "border": null,
            "bottom": null,
            "display": null,
            "flex": null,
            "flex_flow": null,
            "grid_area": null,
            "grid_auto_columns": null,
            "grid_auto_flow": null,
            "grid_auto_rows": null,
            "grid_column": null,
            "grid_gap": null,
            "grid_row": null,
            "grid_template_areas": null,
            "grid_template_columns": null,
            "grid_template_rows": null,
            "height": null,
            "justify_content": null,
            "justify_items": null,
            "left": null,
            "margin": null,
            "max_height": null,
            "max_width": null,
            "min_height": null,
            "min_width": null,
            "object_fit": null,
            "object_position": null,
            "order": null,
            "overflow": null,
            "overflow_x": null,
            "overflow_y": null,
            "padding": null,
            "right": null,
            "top": null,
            "visibility": null,
            "width": null
          }
        },
        "15111f6c7c754dbea6b2686490c49cda": {
          "model_module": "@jupyter-widgets/controls",
          "model_name": "ProgressStyleModel",
          "model_module_version": "1.5.0",
          "state": {
            "_model_module": "@jupyter-widgets/controls",
            "_model_module_version": "1.5.0",
            "_model_name": "ProgressStyleModel",
            "_view_count": null,
            "_view_module": "@jupyter-widgets/base",
            "_view_module_version": "1.2.0",
            "_view_name": "StyleView",
            "bar_color": null,
            "description_width": ""
          }
        },
        "09c9647e14f04f4d9a90bddb359f5e35": {
          "model_module": "@jupyter-widgets/base",
          "model_name": "LayoutModel",
          "model_module_version": "1.2.0",
          "state": {
            "_model_module": "@jupyter-widgets/base",
            "_model_module_version": "1.2.0",
            "_model_name": "LayoutModel",
            "_view_count": null,
            "_view_module": "@jupyter-widgets/base",
            "_view_module_version": "1.2.0",
            "_view_name": "LayoutView",
            "align_content": null,
            "align_items": null,
            "align_self": null,
            "border": null,
            "bottom": null,
            "display": null,
            "flex": null,
            "flex_flow": null,
            "grid_area": null,
            "grid_auto_columns": null,
            "grid_auto_flow": null,
            "grid_auto_rows": null,
            "grid_column": null,
            "grid_gap": null,
            "grid_row": null,
            "grid_template_areas": null,
            "grid_template_columns": null,
            "grid_template_rows": null,
            "height": null,
            "justify_content": null,
            "justify_items": null,
            "left": null,
            "margin": null,
            "max_height": null,
            "max_width": null,
            "min_height": null,
            "min_width": null,
            "object_fit": null,
            "object_position": null,
            "order": null,
            "overflow": null,
            "overflow_x": null,
            "overflow_y": null,
            "padding": null,
            "right": null,
            "top": null,
            "visibility": null,
            "width": null
          }
        },
        "fbcf8566f1c34a59a7438bad414616c8": {
          "model_module": "@jupyter-widgets/controls",
          "model_name": "DescriptionStyleModel",
          "model_module_version": "1.5.0",
          "state": {
            "_model_module": "@jupyter-widgets/controls",
            "_model_module_version": "1.5.0",
            "_model_name": "DescriptionStyleModel",
            "_view_count": null,
            "_view_module": "@jupyter-widgets/base",
            "_view_module_version": "1.2.0",
            "_view_name": "StyleView",
            "description_width": ""
          }
        },
        "44ee88b50a0d42e0bfb443c834604980": {
          "model_module": "@jupyter-widgets/controls",
          "model_name": "HBoxModel",
          "model_module_version": "1.5.0",
          "state": {
            "_dom_classes": [],
            "_model_module": "@jupyter-widgets/controls",
            "_model_module_version": "1.5.0",
            "_model_name": "HBoxModel",
            "_view_count": null,
            "_view_module": "@jupyter-widgets/controls",
            "_view_module_version": "1.5.0",
            "_view_name": "HBoxView",
            "box_style": "",
            "children": [
              "IPY_MODEL_6d8876c623e247e38805bb4b2395459d",
              "IPY_MODEL_0d1648296cc044928b5622d11eb5309d",
              "IPY_MODEL_5f9220aa4e124f219211bb4af960c528"
            ],
            "layout": "IPY_MODEL_e9b8425579d648589f39eb968ef79f28"
          }
        },
        "6d8876c623e247e38805bb4b2395459d": {
          "model_module": "@jupyter-widgets/controls",
          "model_name": "HTMLModel",
          "model_module_version": "1.5.0",
          "state": {
            "_dom_classes": [],
            "_model_module": "@jupyter-widgets/controls",
            "_model_module_version": "1.5.0",
            "_model_name": "HTMLModel",
            "_view_count": null,
            "_view_module": "@jupyter-widgets/controls",
            "_view_module_version": "1.5.0",
            "_view_name": "HTMLView",
            "description": "",
            "description_tooltip": null,
            "layout": "IPY_MODEL_6ecd591766404333ab7ead8d542f95c4",
            "placeholder": "​",
            "style": "IPY_MODEL_2f1e0021d1dd4278978d7ff01fd87ae2",
            "value": "Epoch 1/100 [Training]:  17%"
          }
        },
        "0d1648296cc044928b5622d11eb5309d": {
          "model_module": "@jupyter-widgets/controls",
          "model_name": "FloatProgressModel",
          "model_module_version": "1.5.0",
          "state": {
            "_dom_classes": [],
            "_model_module": "@jupyter-widgets/controls",
            "_model_module_version": "1.5.0",
            "_model_name": "FloatProgressModel",
            "_view_count": null,
            "_view_module": "@jupyter-widgets/controls",
            "_view_module_version": "1.5.0",
            "_view_name": "ProgressView",
            "bar_style": "",
            "description": "",
            "description_tooltip": null,
            "layout": "IPY_MODEL_b06cd36793ee4e60841680e36590f6f2",
            "max": 2234,
            "min": 0,
            "orientation": "horizontal",
            "style": "IPY_MODEL_d59ec61143b64e4ea409fd2c6b0cfe85",
            "value": 385
          }
        },
        "5f9220aa4e124f219211bb4af960c528": {
          "model_module": "@jupyter-widgets/controls",
          "model_name": "HTMLModel",
          "model_module_version": "1.5.0",
          "state": {
            "_dom_classes": [],
            "_model_module": "@jupyter-widgets/controls",
            "_model_module_version": "1.5.0",
            "_model_name": "HTMLModel",
            "_view_count": null,
            "_view_module": "@jupyter-widgets/controls",
            "_view_module_version": "1.5.0",
            "_view_name": "HTMLView",
            "description": "",
            "description_tooltip": null,
            "layout": "IPY_MODEL_7969a3ab3c914343972c506425099ed6",
            "placeholder": "​",
            "style": "IPY_MODEL_25179c8ad1bb485898083fb1caeafbd7",
            "value": " 385/2234 [00:19&lt;00:11, 167.58it/s, loss=1.96]"
          }
        },
        "e9b8425579d648589f39eb968ef79f28": {
          "model_module": "@jupyter-widgets/base",
          "model_name": "LayoutModel",
          "model_module_version": "1.2.0",
          "state": {
            "_model_module": "@jupyter-widgets/base",
            "_model_module_version": "1.2.0",
            "_model_name": "LayoutModel",
            "_view_count": null,
            "_view_module": "@jupyter-widgets/base",
            "_view_module_version": "1.2.0",
            "_view_name": "LayoutView",
            "align_content": null,
            "align_items": null,
            "align_self": null,
            "border": null,
            "bottom": null,
            "display": null,
            "flex": null,
            "flex_flow": null,
            "grid_area": null,
            "grid_auto_columns": null,
            "grid_auto_flow": null,
            "grid_auto_rows": null,
            "grid_column": null,
            "grid_gap": null,
            "grid_row": null,
            "grid_template_areas": null,
            "grid_template_columns": null,
            "grid_template_rows": null,
            "height": null,
            "justify_content": null,
            "justify_items": null,
            "left": null,
            "margin": null,
            "max_height": null,
            "max_width": null,
            "min_height": null,
            "min_width": null,
            "object_fit": null,
            "object_position": null,
            "order": null,
            "overflow": null,
            "overflow_x": null,
            "overflow_y": null,
            "padding": null,
            "right": null,
            "top": null,
            "visibility": null,
            "width": null
          }
        },
        "6ecd591766404333ab7ead8d542f95c4": {
          "model_module": "@jupyter-widgets/base",
          "model_name": "LayoutModel",
          "model_module_version": "1.2.0",
          "state": {
            "_model_module": "@jupyter-widgets/base",
            "_model_module_version": "1.2.0",
            "_model_name": "LayoutModel",
            "_view_count": null,
            "_view_module": "@jupyter-widgets/base",
            "_view_module_version": "1.2.0",
            "_view_name": "LayoutView",
            "align_content": null,
            "align_items": null,
            "align_self": null,
            "border": null,
            "bottom": null,
            "display": null,
            "flex": null,
            "flex_flow": null,
            "grid_area": null,
            "grid_auto_columns": null,
            "grid_auto_flow": null,
            "grid_auto_rows": null,
            "grid_column": null,
            "grid_gap": null,
            "grid_row": null,
            "grid_template_areas": null,
            "grid_template_columns": null,
            "grid_template_rows": null,
            "height": null,
            "justify_content": null,
            "justify_items": null,
            "left": null,
            "margin": null,
            "max_height": null,
            "max_width": null,
            "min_height": null,
            "min_width": null,
            "object_fit": null,
            "object_position": null,
            "order": null,
            "overflow": null,
            "overflow_x": null,
            "overflow_y": null,
            "padding": null,
            "right": null,
            "top": null,
            "visibility": null,
            "width": null
          }
        },
        "2f1e0021d1dd4278978d7ff01fd87ae2": {
          "model_module": "@jupyter-widgets/controls",
          "model_name": "DescriptionStyleModel",
          "model_module_version": "1.5.0",
          "state": {
            "_model_module": "@jupyter-widgets/controls",
            "_model_module_version": "1.5.0",
            "_model_name": "DescriptionStyleModel",
            "_view_count": null,
            "_view_module": "@jupyter-widgets/base",
            "_view_module_version": "1.2.0",
            "_view_name": "StyleView",
            "description_width": ""
          }
        },
        "b06cd36793ee4e60841680e36590f6f2": {
          "model_module": "@jupyter-widgets/base",
          "model_name": "LayoutModel",
          "model_module_version": "1.2.0",
          "state": {
            "_model_module": "@jupyter-widgets/base",
            "_model_module_version": "1.2.0",
            "_model_name": "LayoutModel",
            "_view_count": null,
            "_view_module": "@jupyter-widgets/base",
            "_view_module_version": "1.2.0",
            "_view_name": "LayoutView",
            "align_content": null,
            "align_items": null,
            "align_self": null,
            "border": null,
            "bottom": null,
            "display": null,
            "flex": null,
            "flex_flow": null,
            "grid_area": null,
            "grid_auto_columns": null,
            "grid_auto_flow": null,
            "grid_auto_rows": null,
            "grid_column": null,
            "grid_gap": null,
            "grid_row": null,
            "grid_template_areas": null,
            "grid_template_columns": null,
            "grid_template_rows": null,
            "height": null,
            "justify_content": null,
            "justify_items": null,
            "left": null,
            "margin": null,
            "max_height": null,
            "max_width": null,
            "min_height": null,
            "min_width": null,
            "object_fit": null,
            "object_position": null,
            "order": null,
            "overflow": null,
            "overflow_x": null,
            "overflow_y": null,
            "padding": null,
            "right": null,
            "top": null,
            "visibility": null,
            "width": null
          }
        },
        "d59ec61143b64e4ea409fd2c6b0cfe85": {
          "model_module": "@jupyter-widgets/controls",
          "model_name": "ProgressStyleModel",
          "model_module_version": "1.5.0",
          "state": {
            "_model_module": "@jupyter-widgets/controls",
            "_model_module_version": "1.5.0",
            "_model_name": "ProgressStyleModel",
            "_view_count": null,
            "_view_module": "@jupyter-widgets/base",
            "_view_module_version": "1.2.0",
            "_view_name": "StyleView",
            "bar_color": null,
            "description_width": ""
          }
        },
        "7969a3ab3c914343972c506425099ed6": {
          "model_module": "@jupyter-widgets/base",
          "model_name": "LayoutModel",
          "model_module_version": "1.2.0",
          "state": {
            "_model_module": "@jupyter-widgets/base",
            "_model_module_version": "1.2.0",
            "_model_name": "LayoutModel",
            "_view_count": null,
            "_view_module": "@jupyter-widgets/base",
            "_view_module_version": "1.2.0",
            "_view_name": "LayoutView",
            "align_content": null,
            "align_items": null,
            "align_self": null,
            "border": null,
            "bottom": null,
            "display": null,
            "flex": null,
            "flex_flow": null,
            "grid_area": null,
            "grid_auto_columns": null,
            "grid_auto_flow": null,
            "grid_auto_rows": null,
            "grid_column": null,
            "grid_gap": null,
            "grid_row": null,
            "grid_template_areas": null,
            "grid_template_columns": null,
            "grid_template_rows": null,
            "height": null,
            "justify_content": null,
            "justify_items": null,
            "left": null,
            "margin": null,
            "max_height": null,
            "max_width": null,
            "min_height": null,
            "min_width": null,
            "object_fit": null,
            "object_position": null,
            "order": null,
            "overflow": null,
            "overflow_x": null,
            "overflow_y": null,
            "padding": null,
            "right": null,
            "top": null,
            "visibility": null,
            "width": null
          }
        },
        "25179c8ad1bb485898083fb1caeafbd7": {
          "model_module": "@jupyter-widgets/controls",
          "model_name": "DescriptionStyleModel",
          "model_module_version": "1.5.0",
          "state": {
            "_model_module": "@jupyter-widgets/controls",
            "_model_module_version": "1.5.0",
            "_model_name": "DescriptionStyleModel",
            "_view_count": null,
            "_view_module": "@jupyter-widgets/base",
            "_view_module_version": "1.2.0",
            "_view_name": "StyleView",
            "description_width": ""
          }
        }
      }
    }
  },
  "nbformat": 4,
  "nbformat_minor": 0
}